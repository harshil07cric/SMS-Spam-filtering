{
  "nbformat": 4,
  "nbformat_minor": 0,
  "metadata": {
    "colab": {
      "provenance": [],
      "mount_file_id": "18csS68jIk_kRRmXN-xhlH9iBV7g3s5sF",
      "authorship_tag": "ABX9TyPRPg9uEN/75BMKw7DnQDuC",
      "include_colab_link": true
    },
    "kernelspec": {
      "name": "python3",
      "display_name": "Python 3"
    },
    "language_info": {
      "name": "python"
    }
  },
  "cells": [
    {
      "cell_type": "markdown",
      "metadata": {
        "id": "view-in-github",
        "colab_type": "text"
      },
      "source": [
        "<a href=\"https://colab.research.google.com/github/harshil07cric/SMS-Spam-filtering/blob/main/SMS_spam_filtering.ipynb\" target=\"_parent\"><img src=\"https://colab.research.google.com/assets/colab-badge.svg\" alt=\"Open In Colab\"/></a>"
      ]
    },
    {
      "cell_type": "code",
      "execution_count": null,
      "metadata": {
        "id": "F4ZHhv4q7Ulw"
      },
      "outputs": [],
      "source": [
        "import nltk\n",
        "import numpy as np\n",
        "import pandas as pd\n",
        "import matplotlib.pyplot as plt\n",
        "from sklearn.naive_bayes import MultinomialNB\n",
        "from sklearn.model_selection import train_test_split\n",
        "from nltk.corpus import stopwords\n",
        "from nltk.stem import PorterStemmer,WordNetLemmatizer\n",
        "from nltk.tokenize import word_tokenize\n",
        "import sklearn.metrics as m"
      ]
    },
    {
      "cell_type": "code",
      "source": [
        "nltk.download('punkt')"
      ],
      "metadata": {
        "colab": {
          "base_uri": "https://localhost:8080/"
        },
        "id": "J_IS7z-39mOL",
        "outputId": "fe7626e3-3d50-479c-c753-640a2d4ebf09"
      },
      "execution_count": null,
      "outputs": [
        {
          "output_type": "stream",
          "name": "stderr",
          "text": [
            "[nltk_data] Downloading package punkt to /root/nltk_data...\n",
            "[nltk_data]   Unzipping tokenizers/punkt.zip.\n"
          ]
        },
        {
          "output_type": "execute_result",
          "data": {
            "text/plain": [
              "True"
            ]
          },
          "metadata": {},
          "execution_count": 2
        }
      ]
    },
    {
      "cell_type": "code",
      "source": [
        "nltk.download('stopwords')"
      ],
      "metadata": {
        "colab": {
          "base_uri": "https://localhost:8080/"
        },
        "id": "NhoiEtGX9vzm",
        "outputId": "71be7e19-87fb-4f2e-97f9-d878461751ab"
      },
      "execution_count": null,
      "outputs": [
        {
          "output_type": "stream",
          "name": "stderr",
          "text": [
            "[nltk_data] Downloading package stopwords to /root/nltk_data...\n",
            "[nltk_data]   Unzipping corpora/stopwords.zip.\n"
          ]
        },
        {
          "output_type": "execute_result",
          "data": {
            "text/plain": [
              "True"
            ]
          },
          "metadata": {},
          "execution_count": 3
        }
      ]
    },
    {
      "cell_type": "code",
      "source": [
        "nltk.download('wordnet')"
      ],
      "metadata": {
        "colab": {
          "base_uri": "https://localhost:8080/"
        },
        "id": "5Uey6O9k90eu",
        "outputId": "312b08d3-9fb1-403b-f3f8-980cc50a9b0d"
      },
      "execution_count": null,
      "outputs": [
        {
          "output_type": "stream",
          "name": "stderr",
          "text": [
            "[nltk_data] Downloading package wordnet to /root/nltk_data...\n"
          ]
        },
        {
          "output_type": "execute_result",
          "data": {
            "text/plain": [
              "True"
            ]
          },
          "metadata": {},
          "execution_count": 4
        }
      ]
    },
    {
      "cell_type": "code",
      "source": [
        "dataset=pd.read_csv('/content/drive/MyDrive/spam.csv',encoding='latin-1')\n",
        "dataset"
      ],
      "metadata": {
        "colab": {
          "base_uri": "https://localhost:8080/",
          "height": 423
        },
        "id": "fM1cHmbU94Tu",
        "outputId": "1bdf675c-4fdc-427d-987b-4689968a45b2"
      },
      "execution_count": null,
      "outputs": [
        {
          "output_type": "execute_result",
          "data": {
            "text/plain": [
              "        v1                                                 v2 Unnamed: 2  \\\n",
              "0      ham  Go until jurong point, crazy.. Available only ...        NaN   \n",
              "1      ham                      Ok lar... Joking wif u oni...        NaN   \n",
              "2     spam  Free entry in 2 a wkly comp to win FA Cup fina...        NaN   \n",
              "3      ham  U dun say so early hor... U c already then say...        NaN   \n",
              "4      ham  Nah I don't think he goes to usf, he lives aro...        NaN   \n",
              "...    ...                                                ...        ...   \n",
              "5567  spam  This is the 2nd time we have tried 2 contact u...        NaN   \n",
              "5568   ham              Will Ì_ b going to esplanade fr home?        NaN   \n",
              "5569   ham  Pity, * was in mood for that. So...any other s...        NaN   \n",
              "5570   ham  The guy did some bitching but I acted like i'd...        NaN   \n",
              "5571   ham                         Rofl. Its true to its name        NaN   \n",
              "\n",
              "     Unnamed: 3 Unnamed: 4  \n",
              "0           NaN        NaN  \n",
              "1           NaN        NaN  \n",
              "2           NaN        NaN  \n",
              "3           NaN        NaN  \n",
              "4           NaN        NaN  \n",
              "...         ...        ...  \n",
              "5567        NaN        NaN  \n",
              "5568        NaN        NaN  \n",
              "5569        NaN        NaN  \n",
              "5570        NaN        NaN  \n",
              "5571        NaN        NaN  \n",
              "\n",
              "[5572 rows x 5 columns]"
            ],
            "text/html": [
              "\n",
              "  <div id=\"df-372ede8a-880a-488d-b2bf-9b9abdf5849d\" class=\"colab-df-container\">\n",
              "    <div>\n",
              "<style scoped>\n",
              "    .dataframe tbody tr th:only-of-type {\n",
              "        vertical-align: middle;\n",
              "    }\n",
              "\n",
              "    .dataframe tbody tr th {\n",
              "        vertical-align: top;\n",
              "    }\n",
              "\n",
              "    .dataframe thead th {\n",
              "        text-align: right;\n",
              "    }\n",
              "</style>\n",
              "<table border=\"1\" class=\"dataframe\">\n",
              "  <thead>\n",
              "    <tr style=\"text-align: right;\">\n",
              "      <th></th>\n",
              "      <th>v1</th>\n",
              "      <th>v2</th>\n",
              "      <th>Unnamed: 2</th>\n",
              "      <th>Unnamed: 3</th>\n",
              "      <th>Unnamed: 4</th>\n",
              "    </tr>\n",
              "  </thead>\n",
              "  <tbody>\n",
              "    <tr>\n",
              "      <th>0</th>\n",
              "      <td>ham</td>\n",
              "      <td>Go until jurong point, crazy.. Available only ...</td>\n",
              "      <td>NaN</td>\n",
              "      <td>NaN</td>\n",
              "      <td>NaN</td>\n",
              "    </tr>\n",
              "    <tr>\n",
              "      <th>1</th>\n",
              "      <td>ham</td>\n",
              "      <td>Ok lar... Joking wif u oni...</td>\n",
              "      <td>NaN</td>\n",
              "      <td>NaN</td>\n",
              "      <td>NaN</td>\n",
              "    </tr>\n",
              "    <tr>\n",
              "      <th>2</th>\n",
              "      <td>spam</td>\n",
              "      <td>Free entry in 2 a wkly comp to win FA Cup fina...</td>\n",
              "      <td>NaN</td>\n",
              "      <td>NaN</td>\n",
              "      <td>NaN</td>\n",
              "    </tr>\n",
              "    <tr>\n",
              "      <th>3</th>\n",
              "      <td>ham</td>\n",
              "      <td>U dun say so early hor... U c already then say...</td>\n",
              "      <td>NaN</td>\n",
              "      <td>NaN</td>\n",
              "      <td>NaN</td>\n",
              "    </tr>\n",
              "    <tr>\n",
              "      <th>4</th>\n",
              "      <td>ham</td>\n",
              "      <td>Nah I don't think he goes to usf, he lives aro...</td>\n",
              "      <td>NaN</td>\n",
              "      <td>NaN</td>\n",
              "      <td>NaN</td>\n",
              "    </tr>\n",
              "    <tr>\n",
              "      <th>...</th>\n",
              "      <td>...</td>\n",
              "      <td>...</td>\n",
              "      <td>...</td>\n",
              "      <td>...</td>\n",
              "      <td>...</td>\n",
              "    </tr>\n",
              "    <tr>\n",
              "      <th>5567</th>\n",
              "      <td>spam</td>\n",
              "      <td>This is the 2nd time we have tried 2 contact u...</td>\n",
              "      <td>NaN</td>\n",
              "      <td>NaN</td>\n",
              "      <td>NaN</td>\n",
              "    </tr>\n",
              "    <tr>\n",
              "      <th>5568</th>\n",
              "      <td>ham</td>\n",
              "      <td>Will Ì_ b going to esplanade fr home?</td>\n",
              "      <td>NaN</td>\n",
              "      <td>NaN</td>\n",
              "      <td>NaN</td>\n",
              "    </tr>\n",
              "    <tr>\n",
              "      <th>5569</th>\n",
              "      <td>ham</td>\n",
              "      <td>Pity, * was in mood for that. So...any other s...</td>\n",
              "      <td>NaN</td>\n",
              "      <td>NaN</td>\n",
              "      <td>NaN</td>\n",
              "    </tr>\n",
              "    <tr>\n",
              "      <th>5570</th>\n",
              "      <td>ham</td>\n",
              "      <td>The guy did some bitching but I acted like i'd...</td>\n",
              "      <td>NaN</td>\n",
              "      <td>NaN</td>\n",
              "      <td>NaN</td>\n",
              "    </tr>\n",
              "    <tr>\n",
              "      <th>5571</th>\n",
              "      <td>ham</td>\n",
              "      <td>Rofl. Its true to its name</td>\n",
              "      <td>NaN</td>\n",
              "      <td>NaN</td>\n",
              "      <td>NaN</td>\n",
              "    </tr>\n",
              "  </tbody>\n",
              "</table>\n",
              "<p>5572 rows × 5 columns</p>\n",
              "</div>\n",
              "    <div class=\"colab-df-buttons\">\n",
              "\n",
              "  <div class=\"colab-df-container\">\n",
              "    <button class=\"colab-df-convert\" onclick=\"convertToInteractive('df-372ede8a-880a-488d-b2bf-9b9abdf5849d')\"\n",
              "            title=\"Convert this dataframe to an interactive table.\"\n",
              "            style=\"display:none;\">\n",
              "\n",
              "  <svg xmlns=\"http://www.w3.org/2000/svg\" height=\"24px\" viewBox=\"0 -960 960 960\">\n",
              "    <path d=\"M120-120v-720h720v720H120Zm60-500h600v-160H180v160Zm220 220h160v-160H400v160Zm0 220h160v-160H400v160ZM180-400h160v-160H180v160Zm440 0h160v-160H620v160ZM180-180h160v-160H180v160Zm440 0h160v-160H620v160Z\"/>\n",
              "  </svg>\n",
              "    </button>\n",
              "\n",
              "  <style>\n",
              "    .colab-df-container {\n",
              "      display:flex;\n",
              "      gap: 12px;\n",
              "    }\n",
              "\n",
              "    .colab-df-convert {\n",
              "      background-color: #E8F0FE;\n",
              "      border: none;\n",
              "      border-radius: 50%;\n",
              "      cursor: pointer;\n",
              "      display: none;\n",
              "      fill: #1967D2;\n",
              "      height: 32px;\n",
              "      padding: 0 0 0 0;\n",
              "      width: 32px;\n",
              "    }\n",
              "\n",
              "    .colab-df-convert:hover {\n",
              "      background-color: #E2EBFA;\n",
              "      box-shadow: 0px 1px 2px rgba(60, 64, 67, 0.3), 0px 1px 3px 1px rgba(60, 64, 67, 0.15);\n",
              "      fill: #174EA6;\n",
              "    }\n",
              "\n",
              "    .colab-df-buttons div {\n",
              "      margin-bottom: 4px;\n",
              "    }\n",
              "\n",
              "    [theme=dark] .colab-df-convert {\n",
              "      background-color: #3B4455;\n",
              "      fill: #D2E3FC;\n",
              "    }\n",
              "\n",
              "    [theme=dark] .colab-df-convert:hover {\n",
              "      background-color: #434B5C;\n",
              "      box-shadow: 0px 1px 3px 1px rgba(0, 0, 0, 0.15);\n",
              "      filter: drop-shadow(0px 1px 2px rgba(0, 0, 0, 0.3));\n",
              "      fill: #FFFFFF;\n",
              "    }\n",
              "  </style>\n",
              "\n",
              "    <script>\n",
              "      const buttonEl =\n",
              "        document.querySelector('#df-372ede8a-880a-488d-b2bf-9b9abdf5849d button.colab-df-convert');\n",
              "      buttonEl.style.display =\n",
              "        google.colab.kernel.accessAllowed ? 'block' : 'none';\n",
              "\n",
              "      async function convertToInteractive(key) {\n",
              "        const element = document.querySelector('#df-372ede8a-880a-488d-b2bf-9b9abdf5849d');\n",
              "        const dataTable =\n",
              "          await google.colab.kernel.invokeFunction('convertToInteractive',\n",
              "                                                    [key], {});\n",
              "        if (!dataTable) return;\n",
              "\n",
              "        const docLinkHtml = 'Like what you see? Visit the ' +\n",
              "          '<a target=\"_blank\" href=https://colab.research.google.com/notebooks/data_table.ipynb>data table notebook</a>'\n",
              "          + ' to learn more about interactive tables.';\n",
              "        element.innerHTML = '';\n",
              "        dataTable['output_type'] = 'display_data';\n",
              "        await google.colab.output.renderOutput(dataTable, element);\n",
              "        const docLink = document.createElement('div');\n",
              "        docLink.innerHTML = docLinkHtml;\n",
              "        element.appendChild(docLink);\n",
              "      }\n",
              "    </script>\n",
              "  </div>\n",
              "\n",
              "\n",
              "<div id=\"df-2b139b46-50bd-4e19-bfa5-492d0d46702a\">\n",
              "  <button class=\"colab-df-quickchart\" onclick=\"quickchart('df-2b139b46-50bd-4e19-bfa5-492d0d46702a')\"\n",
              "            title=\"Suggest charts.\"\n",
              "            style=\"display:none;\">\n",
              "\n",
              "<svg xmlns=\"http://www.w3.org/2000/svg\" height=\"24px\"viewBox=\"0 0 24 24\"\n",
              "     width=\"24px\">\n",
              "    <g>\n",
              "        <path d=\"M19 3H5c-1.1 0-2 .9-2 2v14c0 1.1.9 2 2 2h14c1.1 0 2-.9 2-2V5c0-1.1-.9-2-2-2zM9 17H7v-7h2v7zm4 0h-2V7h2v10zm4 0h-2v-4h2v4z\"/>\n",
              "    </g>\n",
              "</svg>\n",
              "  </button>\n",
              "\n",
              "<style>\n",
              "  .colab-df-quickchart {\n",
              "      --bg-color: #E8F0FE;\n",
              "      --fill-color: #1967D2;\n",
              "      --hover-bg-color: #E2EBFA;\n",
              "      --hover-fill-color: #174EA6;\n",
              "      --disabled-fill-color: #AAA;\n",
              "      --disabled-bg-color: #DDD;\n",
              "  }\n",
              "\n",
              "  [theme=dark] .colab-df-quickchart {\n",
              "      --bg-color: #3B4455;\n",
              "      --fill-color: #D2E3FC;\n",
              "      --hover-bg-color: #434B5C;\n",
              "      --hover-fill-color: #FFFFFF;\n",
              "      --disabled-bg-color: #3B4455;\n",
              "      --disabled-fill-color: #666;\n",
              "  }\n",
              "\n",
              "  .colab-df-quickchart {\n",
              "    background-color: var(--bg-color);\n",
              "    border: none;\n",
              "    border-radius: 50%;\n",
              "    cursor: pointer;\n",
              "    display: none;\n",
              "    fill: var(--fill-color);\n",
              "    height: 32px;\n",
              "    padding: 0;\n",
              "    width: 32px;\n",
              "  }\n",
              "\n",
              "  .colab-df-quickchart:hover {\n",
              "    background-color: var(--hover-bg-color);\n",
              "    box-shadow: 0 1px 2px rgba(60, 64, 67, 0.3), 0 1px 3px 1px rgba(60, 64, 67, 0.15);\n",
              "    fill: var(--button-hover-fill-color);\n",
              "  }\n",
              "\n",
              "  .colab-df-quickchart-complete:disabled,\n",
              "  .colab-df-quickchart-complete:disabled:hover {\n",
              "    background-color: var(--disabled-bg-color);\n",
              "    fill: var(--disabled-fill-color);\n",
              "    box-shadow: none;\n",
              "  }\n",
              "\n",
              "  .colab-df-spinner {\n",
              "    border: 2px solid var(--fill-color);\n",
              "    border-color: transparent;\n",
              "    border-bottom-color: var(--fill-color);\n",
              "    animation:\n",
              "      spin 1s steps(1) infinite;\n",
              "  }\n",
              "\n",
              "  @keyframes spin {\n",
              "    0% {\n",
              "      border-color: transparent;\n",
              "      border-bottom-color: var(--fill-color);\n",
              "      border-left-color: var(--fill-color);\n",
              "    }\n",
              "    20% {\n",
              "      border-color: transparent;\n",
              "      border-left-color: var(--fill-color);\n",
              "      border-top-color: var(--fill-color);\n",
              "    }\n",
              "    30% {\n",
              "      border-color: transparent;\n",
              "      border-left-color: var(--fill-color);\n",
              "      border-top-color: var(--fill-color);\n",
              "      border-right-color: var(--fill-color);\n",
              "    }\n",
              "    40% {\n",
              "      border-color: transparent;\n",
              "      border-right-color: var(--fill-color);\n",
              "      border-top-color: var(--fill-color);\n",
              "    }\n",
              "    60% {\n",
              "      border-color: transparent;\n",
              "      border-right-color: var(--fill-color);\n",
              "    }\n",
              "    80% {\n",
              "      border-color: transparent;\n",
              "      border-right-color: var(--fill-color);\n",
              "      border-bottom-color: var(--fill-color);\n",
              "    }\n",
              "    90% {\n",
              "      border-color: transparent;\n",
              "      border-bottom-color: var(--fill-color);\n",
              "    }\n",
              "  }\n",
              "</style>\n",
              "\n",
              "  <script>\n",
              "    async function quickchart(key) {\n",
              "      const quickchartButtonEl =\n",
              "        document.querySelector('#' + key + ' button');\n",
              "      quickchartButtonEl.disabled = true;  // To prevent multiple clicks.\n",
              "      quickchartButtonEl.classList.add('colab-df-spinner');\n",
              "      try {\n",
              "        const charts = await google.colab.kernel.invokeFunction(\n",
              "            'suggestCharts', [key], {});\n",
              "      } catch (error) {\n",
              "        console.error('Error during call to suggestCharts:', error);\n",
              "      }\n",
              "      quickchartButtonEl.classList.remove('colab-df-spinner');\n",
              "      quickchartButtonEl.classList.add('colab-df-quickchart-complete');\n",
              "    }\n",
              "    (() => {\n",
              "      let quickchartButtonEl =\n",
              "        document.querySelector('#df-2b139b46-50bd-4e19-bfa5-492d0d46702a button');\n",
              "      quickchartButtonEl.style.display =\n",
              "        google.colab.kernel.accessAllowed ? 'block' : 'none';\n",
              "    })();\n",
              "  </script>\n",
              "</div>\n",
              "    </div>\n",
              "  </div>\n"
            ]
          },
          "metadata": {},
          "execution_count": 5
        }
      ]
    },
    {
      "cell_type": "code",
      "source": [
        "sent=dataset.iloc[:,[1]]['v2']"
      ],
      "metadata": {
        "id": "5JW6FlX2_Zc5"
      },
      "execution_count": null,
      "outputs": []
    },
    {
      "cell_type": "code",
      "source": [
        "sent"
      ],
      "metadata": {
        "colab": {
          "base_uri": "https://localhost:8080/"
        },
        "id": "xOtZ0gHo_gqh",
        "outputId": "11785eca-bee3-4c71-8158-c85e1bbe36a9"
      },
      "execution_count": null,
      "outputs": [
        {
          "output_type": "execute_result",
          "data": {
            "text/plain": [
              "0       Go until jurong point, crazy.. Available only ...\n",
              "1                           Ok lar... Joking wif u oni...\n",
              "2       Free entry in 2 a wkly comp to win FA Cup fina...\n",
              "3       U dun say so early hor... U c already then say...\n",
              "4       Nah I don't think he goes to usf, he lives aro...\n",
              "                              ...                        \n",
              "5567    This is the 2nd time we have tried 2 contact u...\n",
              "5568                Will Ì_ b going to esplanade fr home?\n",
              "5569    Pity, * was in mood for that. So...any other s...\n",
              "5570    The guy did some bitching but I acted like i'd...\n",
              "5571                           Rofl. Its true to its name\n",
              "Name: v2, Length: 5572, dtype: object"
            ]
          },
          "metadata": {},
          "execution_count": 7
        }
      ]
    },
    {
      "cell_type": "code",
      "source": [
        "labels=dataset.iloc[:,[0]]['v1']\n",
        "labels"
      ],
      "metadata": {
        "colab": {
          "base_uri": "https://localhost:8080/"
        },
        "id": "5lI-yI9u_jGO",
        "outputId": "8653efdb-3abe-4ad3-d60c-29aa94379f10"
      },
      "execution_count": null,
      "outputs": [
        {
          "output_type": "execute_result",
          "data": {
            "text/plain": [
              "0        ham\n",
              "1        ham\n",
              "2       spam\n",
              "3        ham\n",
              "4        ham\n",
              "        ... \n",
              "5567    spam\n",
              "5568     ham\n",
              "5569     ham\n",
              "5570     ham\n",
              "5571     ham\n",
              "Name: v1, Length: 5572, dtype: object"
            ]
          },
          "metadata": {},
          "execution_count": 8
        }
      ]
    },
    {
      "cell_type": "code",
      "source": [
        "from sklearn.preprocessing import LabelEncoder"
      ],
      "metadata": {
        "id": "gsxi4bDu_mvN"
      },
      "execution_count": null,
      "outputs": []
    },
    {
      "cell_type": "code",
      "source": [
        "le=LabelEncoder()\n",
        "labels=le.fit_transform(labels)"
      ],
      "metadata": {
        "id": "d6kY2t8T_qg8"
      },
      "execution_count": null,
      "outputs": []
    },
    {
      "cell_type": "code",
      "source": [
        "le.classes_"
      ],
      "metadata": {
        "colab": {
          "base_uri": "https://localhost:8080/"
        },
        "id": "NZqjI9ph_szN",
        "outputId": "2ab71e9a-5992-4024-83e2-44f5ca12a509"
      },
      "execution_count": null,
      "outputs": [
        {
          "output_type": "execute_result",
          "data": {
            "text/plain": [
              "array(['ham', 'spam'], dtype=object)"
            ]
          },
          "metadata": {},
          "execution_count": 11
        }
      ]
    },
    {
      "cell_type": "code",
      "source": [
        "labels"
      ],
      "metadata": {
        "colab": {
          "base_uri": "https://localhost:8080/"
        },
        "id": "Nt8wR6X8_u3_",
        "outputId": "dea61cbb-d026-4ac0-afda-738ad654eee2"
      },
      "execution_count": null,
      "outputs": [
        {
          "output_type": "execute_result",
          "data": {
            "text/plain": [
              "array([0, 0, 1, ..., 0, 0, 0])"
            ]
          },
          "metadata": {},
          "execution_count": 12
        }
      ]
    },
    {
      "cell_type": "code",
      "source": [
        "from keras.utils import to_categorical\n",
        "labels=to_categorical(labels)"
      ],
      "metadata": {
        "id": "KIPQOukX_zE6"
      },
      "execution_count": null,
      "outputs": []
    },
    {
      "cell_type": "code",
      "source": [
        "labels"
      ],
      "metadata": {
        "colab": {
          "base_uri": "https://localhost:8080/"
        },
        "id": "B08-fIB2_1qy",
        "outputId": "4e1d2914-db2b-4644-faf2-c7a10fd56804"
      },
      "execution_count": null,
      "outputs": [
        {
          "output_type": "execute_result",
          "data": {
            "text/plain": [
              "array([[1., 0.],\n",
              "       [1., 0.],\n",
              "       [0., 1.],\n",
              "       ...,\n",
              "       [1., 0.],\n",
              "       [1., 0.],\n",
              "       [1., 0.]], dtype=float32)"
            ]
          },
          "metadata": {},
          "execution_count": 14
        }
      ]
    },
    {
      "cell_type": "code",
      "source": [
        "import re"
      ],
      "metadata": {
        "id": "8Pyt1IO4AKsZ"
      },
      "execution_count": null,
      "outputs": []
    },
    {
      "cell_type": "code",
      "source": [
        "lemma=WordNetLemmatizer()"
      ],
      "metadata": {
        "id": "HfvQC3wwAOA4"
      },
      "execution_count": null,
      "outputs": []
    },
    {
      "cell_type": "code",
      "source": [
        "sentences=[]\n",
        "for j in range(0,len(sent)):\n",
        "  s=re.sub('[^A-Za-z]',' ',sent[j])\n",
        "  s=s.lower()\n",
        "  words=word_tokenize(s)\n",
        "  words=[lemma.lemmatize(i) for i in words if i not in stopwords.words('english')]\n",
        "  s=' '.join(words)\n",
        "  sentences.append(s)"
      ],
      "metadata": {
        "id": "G1n_r5mKAQzt"
      },
      "execution_count": null,
      "outputs": []
    },
    {
      "cell_type": "code",
      "source": [
        "sentences"
      ],
      "metadata": {
        "colab": {
          "base_uri": "https://localhost:8080/"
        },
        "id": "mias3PZOATdE",
        "outputId": "88796cd3-311a-4a58-d03a-8583c2d2c759"
      },
      "execution_count": null,
      "outputs": [
        {
          "output_type": "execute_result",
          "data": {
            "text/plain": [
              "['go jurong point crazy available bugis n great world la e buffet cine got amore wat',\n",
              " 'ok lar joking wif u oni',\n",
              " 'free entry wkly comp win fa cup final tkts st may text fa receive entry question std txt rate c apply',\n",
              " 'u dun say early hor u c already say',\n",
              " 'nah think go usf life around though',\n",
              " 'freemsg hey darling week word back like fun still tb ok xxx std chgs send rcv',\n",
              " 'even brother like speak treat like aid patent',\n",
              " 'per request melle melle oru minnaminunginte nurungu vettam set callertune caller press copy friend callertune',\n",
              " 'winner valued network customer selected receivea prize reward claim call claim code kl valid hour',\n",
              " 'mobile month u r entitled update latest colour mobile camera free call mobile update co free',\n",
              " 'gon na home soon want talk stuff anymore tonight k cried enough today',\n",
              " 'six chance win cash pound txt csh send cost p day day tsandcs apply reply hl info',\n",
              " 'urgent week free membership prize jackpot txt word claim c www dbuk net lccltd pobox ldnw rw',\n",
              " 'searching right word thank breather promise wont take help granted fulfil promise wonderful blessing time',\n",
              " 'date sunday',\n",
              " 'xxxmobilemovieclub use credit click wap link next txt message click http wap xxxmobilemovieclub com n qjkgighjjgcbl',\n",
              " 'oh k watching',\n",
              " 'eh u remember spell name yes v naughty make v wet',\n",
              " 'fine way u feel way gota b',\n",
              " 'england v macedonia dont miss goal team news txt ur national team eg england try wale scotland txt poboxox w wq',\n",
              " 'seriously spell name',\n",
              " 'going try month ha ha joking',\n",
              " 'pay first lar da stock comin',\n",
              " 'aft finish lunch go str lor ard smth lor u finish ur lunch already',\n",
              " 'ffffffffff alright way meet sooner',\n",
              " 'forced eat slice really hungry tho suck mark getting worried know sick turn pizza lol',\n",
              " 'lol always convincing',\n",
              " 'catch bus frying egg make tea eating mom left dinner feel love',\n",
              " 'back amp packing car let know room',\n",
              " 'ahhh work vaguely remember feel like lol',\n",
              " 'wait still clear sure sarcastic x want live u',\n",
              " 'yeah got v apologetic n fallen actin like spoilt child got caught till go badly cheer',\n",
              " 'k tell anything',\n",
              " 'fear fainting housework quick cuppa',\n",
              " 'thanks subscription ringtone uk mobile charged month please confirm replying yes reply charged',\n",
              " 'yup ok go home look timing msg xuhui going learn nd may lesson',\n",
              " 'oops let know roommate done',\n",
              " 'see letter b car',\n",
              " 'anything lor u decide',\n",
              " 'hello saturday go texting see decided anything tomo trying invite anything',\n",
              " 'pls go ahead watt wanted sure great weekend abiola',\n",
              " 'forget tell want need crave love sweet arabian steed mmmmmm yummy',\n",
              " 'rodger burn msg tried call reply sm free nokia mobile free camcorder please call delivery tomorrow',\n",
              " 'seeing',\n",
              " 'great hope like man well endowed lt gt inch',\n",
              " 'call message missed call',\n",
              " 'get hep b immunisation nigeria',\n",
              " 'fair enough anything going',\n",
              " 'yeah hopefully tyler could maybe ask around bit',\n",
              " 'u know stubborn even want go hospital kept telling mark weak sucker hospital weak sucker',\n",
              " 'thinked first time saw class',\n",
              " 'gram usually run like lt gt half eighth smarter though get almost whole second gram lt gt',\n",
              " 'k fyi x ride early tomorrow morning crashing place tonight',\n",
              " 'wow never realized embarassed accomodations thought liked since best could always seemed happy cave sorry give sorry offered sorry room embarassing',\n",
              " 'sm ac sptv new jersey devil detroit red wing play ice hockey correct incorrect end reply end sptv',\n",
              " 'know mallika sherawat yesterday find lt url gt',\n",
              " 'congrats year special cinema pas call c suprman v matrix starwars etc free bx ip pm dont miss',\n",
              " 'sorry call later meeting',\n",
              " 'tell reached',\n",
              " 'yes gauti sehwag odi series',\n",
              " 'gon na pick burger way home even move pain killing',\n",
              " 'ha ha ha good joke girl situation seeker',\n",
              " 'part checking iq',\n",
              " 'sorry roommate took forever ok come',\n",
              " 'ok lar double check wif da hair dresser already said wun cut v short said cut look nice',\n",
              " 'valued customer pleased advise following recent review mob awarded bonus prize call',\n",
              " 'today song dedicated day song u dedicate send ur valuable frnds first rply',\n",
              " 'urgent ur awarded complimentary trip eurodisinc trav aco entry claim txt dis morefrmmob shracomorsglsuplt l aj',\n",
              " 'hear new divorce barbie come ken stuff',\n",
              " 'plane give month end',\n",
              " 'wah lucky man save money hee',\n",
              " 'finished class',\n",
              " 'hi babe im home wan na something xx',\n",
              " 'k k performed',\n",
              " 'u call',\n",
              " 'waiting machan call free',\n",
              " 'thats cool gentleman treat dignity respect',\n",
              " 'like people much shy pa',\n",
              " 'operate lt gt',\n",
              " 'still looking job much ta earn',\n",
              " 'sorry call later',\n",
              " 'k call ah',\n",
              " 'ok way home hi hi',\n",
              " 'place man',\n",
              " 'yup next stop',\n",
              " 'call later network urgnt sm',\n",
              " 'real u getting yo need ticket one jacket done already used multis',\n",
              " 'yes started send request make pain came back back bed double coin factory got ta cash nitros',\n",
              " 'really still tonight babe',\n",
              " 'ela kano il download come wen ur free',\n",
              " 'yeah stand close tho catch something',\n",
              " 'sorry pain ok meet another night spent late afternoon casualty mean done stuff moro includes time sheet sorry',\n",
              " 'smile pleasure smile pain smile trouble pours like rain smile sum hurt u smile becoz someone still love see u smiling',\n",
              " 'please call customer service representative pm guaranteed cash prize',\n",
              " 'havent planning buy later check already lido got show e afternoon u finish work already',\n",
              " 'free ringtone waiting collected simply text password mix verify get usher britney fml',\n",
              " 'watching telugu movie wat abt u',\n",
              " 'see finish load loan pay',\n",
              " 'hi wk ok hols yes bit run forgot hairdresser appointment four need get home n shower beforehand cause prob u ham',\n",
              " 'please text anymore nothing else say',\n",
              " 'okay name ur price long legal wen pick u ave x am xx',\n",
              " 'still looking car buy gone driving test yet',\n",
              " 'per request melle melle oru minnaminunginte nurungu vettam set callertune caller press copy friend callertune',\n",
              " 'wow right mean guess gave boston men changed search location nyc something changed cuz signin page still say boston',\n",
              " 'umma life vava umma love lot dear',\n",
              " 'thanks lot wish birthday thanks making birthday truly memorable',\n",
              " 'aight hit get cash',\n",
              " 'would ip address test considering computer minecraft server',\n",
              " 'know grumpy old people mom like better lying always one play joke',\n",
              " 'dont worry guess busy',\n",
              " 'plural noun research',\n",
              " 'going dinner msg',\n",
              " 'ok wif co like try new thing scared u dun like mah co u said loud',\n",
              " 'gent trying contact last weekend draw show prize guaranteed call claim code k valid hr ppm',\n",
              " 'wa ur openin sentence formal anyway fine juz tt eatin much n puttin weight haha anythin special happened',\n",
              " 'entered cabin pa said happy b day bos felt special askd lunch lunch invited apartment went',\n",
              " 'winner u specially selected receive holiday flight inc speak live operator claim p min',\n",
              " 'goodo yes must speak friday egg potato ratio tortilla needed',\n",
              " 'hmm uncle informed paying school directly pls buy food',\n",
              " 'private account statement show unredeemed bonus point claim call identifier code expires',\n",
              " 'urgent mobile awarded bonus caller prize final try contact u call landline box wr c ppm',\n",
              " 'new address apple pair malarky',\n",
              " 'today voda number ending selected receive award match please call quoting claim code standard rate app',\n",
              " 'going sao mu today done',\n",
              " 'predict wat time finish buying',\n",
              " 'good stuff',\n",
              " 'know yetunde sent money yet sent text bother sending dont involve anything imposed anything first place apologise',\n",
              " 'room',\n",
              " 'hey girl r u hope u r well del r bak long time c give call sum time lucyxx',\n",
              " 'k k much cost',\n",
              " 'home',\n",
              " 'dear call tmorrow pls accomodate',\n",
              " 'first answer question',\n",
              " 'sunshine quiz wkly q win top sony dvd player u know country algarve txt ansr sp tyrone',\n",
              " 'want get laid tonight want real dogging location sent direct ur mob join uk largest dogging network bt txting gravel nt ec p msg p',\n",
              " 'haf msn yijue hotmail com',\n",
              " 'call meet',\n",
              " 'check room befor activity',\n",
              " 'rcv msg chat svc free hardcore service text go u get nothing u must age verify yr network try',\n",
              " 'got c lazy type forgot lect saw pouch like v nice',\n",
              " 'k text way',\n",
              " 'sir waiting mail',\n",
              " 'swt thought nver get tired little thing lovable person coz somtimes little thing occupy biggest part heart gud ni',\n",
              " 'know pls open back',\n",
              " 'yes see ya dot',\n",
              " 'whats staff name taking class u',\n",
              " 'freemsg replied text randy sexy female live local luv hear u netcollex ltd p per msg reply stop end',\n",
              " 'ummma call check life begin qatar pls pray hard',\n",
              " 'k deleted contact',\n",
              " 'sindu got job birla soft',\n",
              " 'wine flowing nevering',\n",
              " 'yup thk cine better co need go plaza mah',\n",
              " 'ok ur typical reply',\n",
              " 'per request melle melle oru minnaminunginte nurungu vettam set callertune caller press copy friend callertune',\n",
              " 'everywhere dirt floor window even shirt sometimes open mouth come flowing dream world without half chore time joy lot tv show see guess like thing must exist like rain hail mist time done become one',\n",
              " 'aaooooright work',\n",
              " 'leaving house',\n",
              " 'hello love get interview today happy good boy think missing',\n",
              " 'customer service annoncement new year delivery waiting please call arrange delivery',\n",
              " 'winner u specially selected receive cash holiday flight inc speak live operator claim',\n",
              " 'keep safe need miss already envy everyone see real life',\n",
              " 'new car house parent new job hand',\n",
              " 'love excited day spend make happy',\n",
              " 'pls stop bootydelious f inviting friend reply yes see www sm ac u bootydelious stop send stop frnd',\n",
              " 'bangbabes ur order way u receive service msg download ur content u goto wap bangb tv ur mobile internet service menu',\n",
              " 'place ur point e culture module already',\n",
              " 'urgent trying contact last weekend draw show prize guaranteed call claim code valid hr',\n",
              " 'hi frnd best way avoid missunderstding wit beloved one',\n",
              " 'great escape fancy bridge need lager see tomo',\n",
              " 'yes completely form clark also utter waste',\n",
              " 'sir need axis bank account bank address',\n",
              " 'hmmm thk sure got time hop ard ya go free abt muz call u discus liao',\n",
              " 'time coming later',\n",
              " 'bloody hell cant believe forgot surname mr ill give u clue spanish begin',\n",
              " 'well gon na finish bath good fine night',\n",
              " 'let know got money carlos make call',\n",
              " 'u still going mall',\n",
              " 'turn friend staying whole show back til lt gt feel free go ahead smoke lt gt worth',\n",
              " 'text doesnt reply let know log',\n",
              " 'hi spoke maneesha v like know satisfied experience reply toll free yes',\n",
              " 'lifted hope offer money need especially end month approach hurt studying anyways gr weekend',\n",
              " 'lol u trust',\n",
              " 'ok gentleman treat dignity respect',\n",
              " 'guy close',\n",
              " 'going nothing great bye',\n",
              " 'hello handsome finding job lazy working towards getting back net mummy boytoy miss',\n",
              " 'haha awesome minute',\n",
              " 'please call customer service representative freephone pm guaranteed cash prize',\n",
              " 'got xmas radio time get',\n",
              " 'jus reached home go bathe first si using net tell u finish k',\n",
              " 'unique enough find th august www areyouunique co uk',\n",
              " 'sorry joined league people dont keep touch mean great deal friend time even great personal cost great week',\n",
              " 'hi finally completed course',\n",
              " 'stop however suggest stay someone able give or every stool',\n",
              " 'hope settled new school year wishin gr day',\n",
              " 'gud mrng dear hav nice day',\n",
              " 'u got person story',\n",
              " 'hamster dead hey tmr meet pm orchard mrt',\n",
              " 'hi kate evening hope see tomorrow bit bloody babyjontet txt back u xxx',\n",
              " 'found enc lt gt',\n",
              " 'sent lt gt buck',\n",
              " 'hello darlin ive finished college txt u finish u love kate xxx',\n",
              " 'account refilled successfully inr lt decimal gt keralacircle prepaid account balance r lt decimal gt transaction id kr lt gt',\n",
              " 'goodmorning sleeping ga',\n",
              " 'u call alter ok',\n",
              " 'say like dat dun buy ericsson oso oredi lar',\n",
              " 'entered cabin pa said happy b day bos felt special askd lunch lunch invited apartment went',\n",
              " 'aight yo dat straight dogg',\n",
              " 'please give u connection today lt decimal gt refund bill',\n",
              " 'shoot big load get ready',\n",
              " 'bruv hope great break rewarding semester',\n",
              " 'home always chat',\n",
              " 'k k good study well',\n",
              " 'yup noe leh',\n",
              " 'sound great home',\n",
              " 'finally match heading towards draw prediction',\n",
              " 'tired slept well past night',\n",
              " 'easy ah sen got selected mean good',\n",
              " 'take exam march',\n",
              " 'yeah think use gt atm register sure anyway help let know sure ready',\n",
              " 'ok prob take ur time',\n",
              " 'o called ubandu run without installing hard disk use o copy important file system give repair shop',\n",
              " 'sorry call later',\n",
              " 'u say leh course nothing happen lar say v romantic jus bit lor thk e nite scenery nice leh',\n",
              " 'new mobile must go txt nokia collect today www tc biz optout gbp mtmsg',\n",
              " 'would really appreciate call need someone talk',\n",
              " 'u meet ur dream partner soon ur career flyng start find free txt horo followed ur star sign e g horo aries',\n",
              " 'hey company elama po mudyadhu',\n",
              " 'life strict teacher bcoz teacher teach lesson amp conduct exam life first conduct exam amp teach lesson happy morning',\n",
              " 'dear good morning',\n",
              " 'get gandhipuram walk cross cut road right side lt gt street road turn first right',\n",
              " 'dear going rubber place',\n",
              " 'sorry battery died yeah',\n",
              " 'yes tv always available work place',\n",
              " 'text meet someone sexy today u find date even flirt u join p reply name age eg sam msg recd thirtyeight penny',\n",
              " 'printed oh lt gt come upstairs',\n",
              " 'ill little closer like bus stop street',\n",
              " 'wil reach',\n",
              " 'new theory argument win situation loses person dont argue ur friend kick amp say always correct',\n",
              " 'u secret admirer looking make contact u find r reveal think ur special call',\n",
              " 'tomarrow final hearing laptop case cant',\n",
              " 'pleassssssseeeeee tel v avent done sportsx',\n",
              " 'okay shining meant signing sound better',\n",
              " 'although told u dat baig face watch really like e watch u gave co fr u thanx everything dat u done today touched',\n",
              " 'u remember old commercial',\n",
              " 'late said website dont slipper',\n",
              " 'asked call ok',\n",
              " 'kallis wont bat nd inning',\n",
              " 'didnt work oh ok goodnight fix ready time wake dearly missed good night sleep',\n",
              " 'congratulation ur awarded cd voucher gift guaranteed free entry wkly draw txt music tncs www ldew com win ppmx age',\n",
              " 'ranjith cal drpd deeraj deepak min hold',\n",
              " 'wen ur lovable bcums angry wid u dnt take seriously coz angry childish n true way showing deep affection care n luv kettoda manda nice day da',\n",
              " '',\n",
              " 'ups day also shipping company take wks way usps take week get lag may bribe nipost get stuff',\n",
              " 'back lem know ready',\n",
              " 'necessarily expect done get back though headin',\n",
              " 'mmm yummy babe nice jolt suzy',\n",
              " 'lover need',\n",
              " 'tried contact reply offer video handset anytime network min unlimited text camcorder reply call',\n",
              " 'parked next mini coming today think',\n",
              " 'yup',\n",
              " 'anyway going shopping co si done yet dun disturb u liao',\n",
              " 'luton ring ur around h',\n",
              " 'hey really horny want chat see naked text hot text charged pm unsubscribe text stop',\n",
              " 'dint come u',\n",
              " 'wana plan trip sometme',\n",
              " 'sure yet still trying get hold',\n",
              " 'ur ringtone service changed free credit go club mobile com choose content stop txt club stop p wk club po box mk wt',\n",
              " 'evo download flash jealous',\n",
              " 'ringtone club get uk single chart mobile week choose top quality ringtone message free charge',\n",
              " 'come mu sorting narcotic situation',\n",
              " 'night ended another day morning come special way may smile like sunny ray leaf worry blue blue bay',\n",
              " 'hmv bonus special pound genuine hmv voucher answer easy question play send hmv info www percent real com',\n",
              " 'usf guess might well take car',\n",
              " 'objection bf coming',\n",
              " 'thanx',\n",
              " 'tell rob mack gf theater',\n",
              " 'awesome see bit',\n",
              " 'sent type food like',\n",
              " 'done handed celebration full swing yet',\n",
              " 'got called tool',\n",
              " 'wen u miss someone',\n",
              " 'ok asked money far',\n",
              " 'okie',\n",
              " 'yeah think usual guy still passed last night get ahold anybody let know throw',\n",
              " 'k might come tonight class let early',\n",
              " 'ok',\n",
              " 'hi baby im cruisin girl friend r u give call hour home thats alright fone fone love jenny xxx',\n",
              " 'life mean lot love life love people life world call friend call world ge',\n",
              " 'dear shall mail tonite busy street shall update tonite thing looking ok varunnathu edukkukayee raksha ollu good one real sense',\n",
              " 'hey told name gautham ah',\n",
              " 'haf u found feel stupid da v cam working',\n",
              " 'oops got bit',\n",
              " 'much buzy',\n",
              " 'accidentally deleted message resend please',\n",
              " 'mobile customer may claim free camera phone upgrade pay go sim card loyalty call offer end thfeb c apply',\n",
              " 'unless situation go gurl would appropriate',\n",
              " 'hurt tease make cry end life die plz keep one rose grave say stupid miss u nice day bslvyl',\n",
              " 'cant pick phone right pls send message',\n",
              " 'need coffee run tomo believe time week already',\n",
              " 'awesome remember last time got somebody high first time diesel v',\n",
              " 'shit really shocking scary cant imagine second def night u think somewhere could crash night save taxi',\n",
              " 'oh way food fridge want go meal tonight',\n",
              " 'womdarfull actor',\n",
              " 'sm ac blind date u rodds aberdeen united kingdom check http img sm ac w icmb cktz r blind date send hide',\n",
              " 'yup remb think book',\n",
              " 'jos ask u wana meet',\n",
              " 'lol yes friendship hanging thread cause u buy stuff',\n",
              " 'themob check newest selection content game tone gossip babe sport keep mobile fit funky text wap',\n",
              " 'garage key bookshelf',\n",
              " 'today accept day u accept brother sister lover dear best clos lvblefrnd jstfrnd cutefrnd lifpartnr belovd swtheart bstfrnd rply mean enemy',\n",
              " 'think ur smart win week weekly quiz text play c winnersclub po box uz gbp week',\n",
              " 'say give call friend got money definitely buying end week',\n",
              " 'hi way u day normal way real ur unique hope know u rest mylife hope u find wot lost',\n",
              " 'made day great day',\n",
              " 'k k advance happy pongal',\n",
              " 'hmmm guess go kb n power yoga haha dunno tahan power yoga anot thk got lo oso forgot liao',\n",
              " 'really dude friend afraid',\n",
              " 'december mobile mths entitled update latest colour camera mobile free call mobile update co free',\n",
              " 'coffee cake guess',\n",
              " 'merry christmas babe love ya kiss',\n",
              " 'hey dont go watch x men lunch haha',\n",
              " 'cud u tell ppl im gona b bit l co bus hav gon past co full im still waitin pete x',\n",
              " 'would great guild could meet bristol road somewhere get touch weekend plan take flight good week',\n",
              " 'problem',\n",
              " 'call message missed call',\n",
              " 'hi da today class',\n",
              " 'say good sign well know track record reading woman',\n",
              " 'cool text parked',\n",
              " 'reading text sent meant joke read light',\n",
              " 'k k apo k good movie',\n",
              " 'maybe could get book tomo return immediately something',\n",
              " 'call germany penny per minute call fixed line via access number prepayment direct access',\n",
              " 'chance might evaporated soon violated privacy stealing phone number employer paperwork cool please contact report supervisor',\n",
              " 'valentine day special win quiz take partner trip lifetime send go p msg rcvd custcare',\n",
              " 'ta daaaaa home babe still',\n",
              " 'cool come havent wined dined',\n",
              " 'sleeping surfing',\n",
              " 'sorry call later',\n",
              " 'u calling right call hand phone',\n",
              " 'ok great thanx lot',\n",
              " 'take post come must text happy reading one wiv hello caroline end favourite bless',\n",
              " 'u hiding stranger',\n",
              " 'interested like',\n",
              " 'sister cleared two round birla soft yesterday',\n",
              " 'gudnite tc practice going',\n",
              " 'dis yijue jus saw ur mail case huiming havent sent u num dis num',\n",
              " 'one small prestige problem',\n",
              " 'fancy shag interested sextextuk com txt xxuk suzy txts cost per msg tncs website x',\n",
              " 'checking really miss seeing jeremiah great month',\n",
              " 'nah help never iphone',\n",
              " 'car hour half going apeshit',\n",
              " 'today sorry day ever angry ever misbehaved hurt plz plz slap urself bcoz ur fault basically good',\n",
              " 'yo guy ever figure much need alcohol jay trying figure much safely spend weed',\n",
              " 'lt gt ish minute minute ago wtf',\n",
              " 'thank calling forgot say happy onam sirji fine remembered met insurance person meet qatar insha allah rakhesh ex tata aig joined tissco tayseer',\n",
              " 'congratulation ur awarded cd voucher gift guaranteed free entry wkly draw txt music tncs www ldew com win ppmx age',\n",
              " 'ur cash balance currently pound maximize ur cash send cash p msg cc hg suite land row w j hl',\n",
              " 'actor work work evening sleep late since unemployed moment always sleep late unemployed every day saturday',\n",
              " 'hello got st andrew boy long way cold keep posted',\n",
              " 'ha ha cool cool chikku chikku db',\n",
              " 'oh ok prob',\n",
              " 'check audrey status right',\n",
              " 'busy trying finish new year looking forward finally meeting',\n",
              " 'good afternoon sunshine dawn day refreshed happy alive breathe air smile think love always',\n",
              " 'well know z take care worry',\n",
              " 'update xmas offer latest motorola sonyericsson nokia free bluetooth double min txt orange call mobileupd call optout f q',\n",
              " 'discount code rp stop message reply stop www regalportfolio co uk customer service',\n",
              " 'wat uniform get',\n",
              " 'cool text ready',\n",
              " 'hello boytoy geeee miss already woke wish bed cuddling love',\n",
              " 'spoil bed well',\n",
              " 'going bath msg next lt gt min',\n",
              " 'cant keep talking people sure pay agree price pls tell want really buy much willing pay',\n",
              " 'thanks ringtone order reference charged gbp per week unsubscribe anytime calling customer service',\n",
              " 'say happen',\n",
              " 'could seen recognise face',\n",
              " 'well lot thing happening lindsay new year sigh bar ptbo blue heron something going',\n",
              " 'keep payasam rinu brings',\n",
              " 'taught ranjith sir called sm like becaus he verifying project prabu told today pa dont mistake',\n",
              " 'guess worried must know way body repair quite sure worry take slow first test guide ovulation relax nothing said reason worry keep followin',\n",
              " 'yeah sure give couple minute track wallet',\n",
              " 'hey leave big deal take care',\n",
              " 'hey late ah meet',\n",
              " 'double min txts month free bluetooth orange available sony nokia motorola phone call mobileupd call optout n dx',\n",
              " 'took mr owl lick',\n",
              " 'customer place call',\n",
              " 'mm time dont like fun',\n",
              " 'mths half price orange line rental latest camera phone free phone mths call mobilesdirect free update stoptxt',\n",
              " 'yup lunch buffet u eat already',\n",
              " 'huh late fr dinner',\n",
              " 'hey sat going intro pilate kickboxing',\n",
              " 'morning ok',\n",
              " 'yes think office lap room think thats last day didnt shut',\n",
              " 'pick bout ish time going',\n",
              " 'performance award calculated every two month current one month period',\n",
              " 'actually sleeping still might u call back text gr rock si send u text wen wake',\n",
              " 'always putting business put picture as facebook one open people ever met would think picture room would hurt make feel violated',\n",
              " 'good evening sir al salam wahleykkum sharing happy news grace god got offer tayseer tissco joined hope fine inshah allah meet sometime rakhesh visitor india',\n",
              " 'hmmm k want change field quickly da wan na get system administrator network administrator',\n",
              " 'free ringtone text first poly text get true tone help st free tone x pw e nd txt stop',\n",
              " 'dear chechi talk',\n",
              " 'hair cream shipped',\n",
              " 'none happening til get though',\n",
              " 'yep great loxahatchee xmas tree burning lt gt start hour',\n",
              " 'haha get used driving usf man know lot stoner',\n",
              " 'well slightly disastrous class pm fav darling hope day ok coffee wld good stay late tomorrow time place always',\n",
              " 'hello good week fancy drink something later',\n",
              " 'headin towards busetop',\n",
              " 'message text missing sender name missing number missing sent date missing missing u lot thats everything missing sent via fullonsms com',\n",
              " 'come room point iron plan weekend',\n",
              " 'co want thing',\n",
              " 'okies go yan jiu skip ard oso go cine den go mrt one blah blah blah',\n",
              " 'bring home wendy',\n",
              " 'dating service cal l box sk ch',\n",
              " 'whatsup dont u want sleep',\n",
              " 'alright new goal',\n",
              " 'free entry weekly competition text word win c www txttowin co uk',\n",
              " 'alright head minute text meet',\n",
              " 'send logo ur lover name joined heart txt love name name mobno eg love adam eve yahoo pobox w wq txtno ad p',\n",
              " 'yes last week taking live call',\n",
              " 'someone contacted dating service entered phone fancy find call landline pobox n tf p',\n",
              " 'siva hostel aha',\n",
              " 'urgent mobile number awarded prize guaranteed call land line claim valid hr',\n",
              " 'send ur friend receive something ur voice speaking expression childish naughty sentiment rowdy ful attitude romantic shy attractive funny lt gt irritating lt gt lovable reply',\n",
              " 'ok ok guess',\n",
              " 'aathi dear',\n",
              " 'pain urination thing else',\n",
              " 'esplanade mind giving lift co got car today',\n",
              " 'wnt buy bmw car urgently vry urgent hv shortage lt gt lac source arng dis amt lt gt lac thats prob',\n",
              " 'home watching tv lor',\n",
              " 'usually take fifteen fucking minute respond yes question',\n",
              " 'congrats nokia video camera phone call call cost ppm ave call min vary mobile close post bcm ldn wc n xx',\n",
              " 'booked ticket pongal',\n",
              " 'available like right around hillsborough amp lt gt th',\n",
              " 'message sent askin lt gt dollar shoul pay lt gt lt gt',\n",
              " 'ask g iouri told story like ten time already',\n",
              " 'long applebees fucking take',\n",
              " 'hi hope u get txt journey hasnt gd min late think',\n",
              " 'like love arrange',\n",
              " 'yes really great bhaji told kallis best cricketer sachin world tough get',\n",
              " 'supposed wake gt',\n",
              " 'oic saw tot din c found group liao',\n",
              " 'sorry call later',\n",
              " 'hey hey werethe monkeespeople say monkeyaround howdy gorgeous',\n",
              " 'sorry battery died come getting gram place',\n",
              " 'well done blimey exercise yeah kinda remember wot hmm',\n",
              " 'wont get concentration dear know mind everything',\n",
              " 'lol made plan new year',\n",
              " 'min later k',\n",
              " 'hank lotsly',\n",
              " 'thanks hope good day today',\n",
              " 'k k detail want transfer acc enough',\n",
              " 'ok tell stay yeah tough optimistic thing improve month',\n",
              " 'loan purpose homeowner tenant welcome previously refused still help call free text back help',\n",
              " 'si si think ill go make oreo truffle',\n",
              " 'look amy ure beautiful intelligent woman like u lot know u like like worry',\n",
              " 'hope result consistently intelligent kind start asking practicum link keep ear open best ttyl',\n",
              " 'call cost guess isnt bad miss ya need ya want ya love ya',\n",
              " 'going thru different feeling wavering decision coping individual time heal everything believe',\n",
              " 'u go phone gon na die stay',\n",
              " 'great never better day give even reason thank god',\n",
              " 'upgrdcentre orange customer may claim free camera phone upgrade loyalty call offer end th july c apply opt available',\n",
              " 'sorry call later ok bye',\n",
              " 'ok way railway',\n",
              " 'great princess love giving receiving oral doggy style fave position enjoy making love lt gt time per night',\n",
              " 'put stuff road keep getting slippery',\n",
              " 'going ride bike',\n",
              " 'yup need jus wait e rain stop',\n",
              " 'many company tell language',\n",
              " 'okmail dear dave final notice collect tenerife holiday cash award call landline tc sae box cw wx ppm',\n",
              " 'long since screamed princess',\n",
              " 'nothing meant money enters account bank remove flat rate someone transfered lt gt account lt gt dollar got removed bank differ charge also differ sure trust ja person sending account detail co',\n",
              " 'want get laid tonight want real dogging location sent direct ur mob join uk largest dogging network txting moan nyt ec p msg p',\n",
              " 'nice line said broken heart plz cum time infront wise trust u good',\n",
              " 'ok gon na head usf like fifteen minute',\n",
              " 'love aathi love u lot',\n",
              " 'tension ah machi problem',\n",
              " 'k pick another th done',\n",
              " 'guy getting back g said thinking staying mcr',\n",
              " 'almost see u sec',\n",
              " 'yo carlos friend already asking working weekend',\n",
              " 'watching tv lor',\n",
              " 'thank baby cant wait taste real thing',\n",
              " 'change fb jaykwon thuglyfe falconerf',\n",
              " 'win really side long time',\n",
              " 'free message activate free text message replying message word free term condition visit www com',\n",
              " 'dear reached railway happen',\n",
              " 'depends quality want type sent boye faded glory want ralphs maybe',\n",
              " 'think fixed send test message',\n",
              " 'sorry man account dry would want could trade back half could buy shit credit card',\n",
              " 'congrats year special cinema pas call c suprman v matrix starwars etc free bx ip pm dont miss',\n",
              " 'sorry meeting call later',\n",
              " 'class lt gt reunion',\n",
              " 'free call',\n",
              " 'got meh',\n",
              " 'nope think go monday sorry replied late',\n",
              " 'told accenture confirm true',\n",
              " 'kate jackson rec center ish right',\n",
              " 'dear reache room',\n",
              " 'fighting world easy u either win lose bt fightng close u dificult u lose u lose u win u still lose',\n",
              " 'come',\n",
              " 'check nuerologist',\n",
              " 'lolnice went fish water',\n",
              " 'congratulation week competition draw u prize claim call b c stop sm ppm',\n",
              " 'waiting e car dat bored wat co wait outside got nothing home stuff watch tv wat',\n",
              " 'maybe westshore hyde park village place near house',\n",
              " 'know anthony bringing money school fee pay rent stuff like thats need help friend need',\n",
              " 'significance',\n",
              " 'opinion jada kusruthi lovable silent spl character matured stylish simple pls reply',\n",
              " 'latest g still scrounge ammo want give new ak try',\n",
              " 'prabha soryda realy frm heart sory',\n",
              " 'lol ok forgiven',\n",
              " 'jst change tat',\n",
              " 'guaranteed latest nokia phone gb ipod mp player prize txt word collect ibhltd ldnw h p mtmsgrcvd',\n",
              " 'competition',\n",
              " 'boltblue tone p reply poly mono eg poly cha cha slide yeah slow jamz toxic come stop tone txt',\n",
              " 'credit topped http www bubbletext com renewal pin tgxxrz',\n",
              " 'way transport le problematic sat night way u want ask n join bday feel free need know definite no booking fri',\n",
              " 'usually person unconscious child adult may behave abnormally call',\n",
              " 'ebay might le elsewhere',\n",
              " 'shall come get pickle',\n",
              " 'gon na go get taco',\n",
              " 'rude campus',\n",
              " 'urgent mobile awarded bonus caller prize nd attempt contact call box qu',\n",
              " 'hi b ard christmas enjoy n merry x ma',\n",
              " 'today offer claim ur worth discount voucher text yes savamob member offer mobile c sub unsub reply x',\n",
              " 'yes pretty lady like single',\n",
              " 'recieve tone within next hr term condition please see channel u teletext pg',\n",
              " 'jay say double faggot',\n",
              " 'private account statement show un redeemed point call identifier code expires',\n",
              " 'today sunday sunday holiday work',\n",
              " 'gudnite tc practice going',\n",
              " 'late',\n",
              " 'called hoping l r malaria know miss guy miss ban big pls give love especially great day',\n",
              " 'good afternoon love go day hope maybe got lead job think boytoy send passionate kiss across sea',\n",
              " 'probably gon na see later tonight lt',\n",
              " 'maybe fat finger press button know',\n",
              " 'ummmmmaah many many happy return day dear sweet heart happy birthday dear',\n",
              " 'tirupur da started office call',\n",
              " 'www applausestore com monthlysubscription p msg max month csc web age stop txt stop',\n",
              " 'famous quote develop ability listen anything unconditionally without losing temper self confidence mean married',\n",
              " 'going college pa else ill come self pa',\n",
              " 'oclock mine bash flat plan',\n",
              " 'girl stay bed girl need recovery time id rather pas fun cooped bed',\n",
              " 'special',\n",
              " 'know need get hotel got invitation apologise cali sweet come english bloke weddin',\n",
              " 'sorry took long omw',\n",
              " 'wait lt gt min',\n",
              " 'ok give minute think see btw alibi cutting hair whole time',\n",
              " 'imagine finally get sink bath put pace maybe even eat left also imagine feel cage cock surrounded bath water reminding always owns enjoy cuck',\n",
              " 'hurry weed deficient like three day',\n",
              " 'sure get acknowledgement astoundingly tactless generally faggy demand blood oath fo',\n",
              " 'ok every night take warm bath drink cup milk see work magic still need loose weight know',\n",
              " 'look frying pan case cheap book perhaps silly frying pan likely book',\n",
              " 'well uv cause mutation sunscreen like essential thesedays',\n",
              " 'lunch online',\n",
              " 'know friend already told',\n",
              " 'hi princess thank pic pretty',\n",
              " 'aiyo u always c ex one dunno abt mei reply first time u reply fast lucky workin huh got bao ur sugardad ah gee',\n",
              " 'hi msg office',\n",
              " 'thanx e brownie v nice',\n",
              " 'geeeee love much barely stand',\n",
              " 'gent trying contact last weekend draw show prize guaranteed call claim code k valid hr ppm',\n",
              " 'fuck babe miss already know let send money towards net need want crave',\n",
              " 'ill call u mrw ninish address icky american freek wont stop callin bad jen k eh',\n",
              " 'oooh bed ridden ey thinking',\n",
              " 'anyways go gym whatever love smile hope ok good day babe miss much already',\n",
              " 'love daddy make scream pleasure going slap as dick',\n",
              " 'wot u wan na missy',\n",
              " 'yar lor wait mum finish sch lunch lor whole morning stay home clean room room quite clean hee',\n",
              " 'know lab goggles went',\n",
              " 'open door',\n",
              " 'waiting call',\n",
              " 'nope waiting sch daddy',\n",
              " 'cash prize claim call',\n",
              " 'tired arguing week week want',\n",
              " 'wait sch finish ard',\n",
              " 'mobile number claim call u back ring claim hot line',\n",
              " 'arngd marriage u r walkin unfortuntly snake bite u bt love marriage dancing frnt snake amp sayin bite bite',\n",
              " 'huh early dinner outside izzit',\n",
              " 'ok anyway need change said',\n",
              " 'tried contact reply offer min textand new video phone call reply free delivery tomorrow',\n",
              " 'ex wife able kid want kid one day',\n",
              " 'scotland hope showing jjc tendency take care live dream',\n",
              " 'tell u headache want use hour sick time',\n",
              " 'dun thk quit yet hmmm go jazz yogasana oso go meet em lesson den',\n",
              " 'pete please ring meive hardly gotany credit',\n",
              " 'ya srsly better yi tho',\n",
              " 'meeting call later',\n",
              " 'ur chance win wkly shopping spree txt shop c www txt shop com custcare x p wk',\n",
              " 'specially selected receive pound award call line close cost ppm c apply ag promo',\n",
              " 'private account statement show un redeemed point call identifier code expires',\n",
              " 'still grand prix',\n",
              " 'met stranger choose friend long world stand friendship never end let friend forever gud nitz',\n",
              " 'great',\n",
              " 'gud mrng dear nice day',\n",
              " 'important customer service announcement call freephone',\n",
              " 'exhausted train morning much wine pie sleep well',\n",
              " 'going buy mum present ar',\n",
              " 'mind blastin tsunami occur rajnikant stopped swimming indian ocean',\n",
              " 'u sending home first ok lor ready yet',\n",
              " 'speaking cash yet',\n",
              " 'happy come noon',\n",
              " 'meet lunch la',\n",
              " 'take care n get well soon',\n",
              " 'xclusive clubsaisai morow soiree speciale zouk nichols paris free rose lady info',\n",
              " 'meant say cant wait see u getting bored bridgwater banter',\n",
              " 'neva mind ok',\n",
              " 'fine imma get drink somethin want come find',\n",
              " 'day kick euro u kept date latest news result daily removed send get txt stop',\n",
              " 'valentine game send dis msg ur friend answer r someone really love u ques colour suit best rply',\n",
              " 'many dependent',\n",
              " 'thanx today cer nice catch ave find time often oh well take care c u soon c',\n",
              " 'called said choose future',\n",
              " 'happy valentine day know early hundred handsomes beauty wish thought finish aunty uncle st',\n",
              " 'like v shock leh co telling shuhui like telling leona also like dat almost know liao got ask abt ur reaction lor',\n",
              " 'family happiness',\n",
              " 'come n pick come immediately aft ur lesson',\n",
              " 'let snow let snow kind weather brings ppl together friendship grow',\n",
              " 'dear got lt gt dollar hi hi',\n",
              " 'good word word may leave u dismay many time',\n",
              " 'make sure alex know birthday fifteen minute far concerned',\n",
              " 'sorry got thing may pub later',\n",
              " 'nah straight bring bud drink something actually little useful straight cash',\n",
              " 'haha good hear officially paid market th',\n",
              " 'many lick take get center tootsie pop',\n",
              " 'yup thk r e teacher said make face look longer darren ask cut short',\n",
              " 'new textbuddy chat horny guy ur area p free receive search postcode gaytextbuddy com txt one name',\n",
              " 'today vodafone number ending selected receive award number match call receive award',\n",
              " 'please dont say like hi hi hi',\n",
              " 'thank u',\n",
              " 'oh forwarded message thought send',\n",
              " 'got seventeen pound seven hundred ml hope ok',\n",
              " 'dear voucher holder claim week offer pc go http www e tlp co uk expressoffer t c apply stop text txt stop',\n",
              " 'n funny',\n",
              " 'sweetheart hope kind day one load reason smile biola',\n",
              " 'login dat time dad fetching home',\n",
              " 'shower baby',\n",
              " 'askd u question hour answer',\n",
              " 'well imma definitely need restock thanksgiving let know',\n",
              " 'said kiss kiss sound effect gorgeous man kind person need smile brighten day',\n",
              " 'probably gon na swing wee bit',\n",
              " 'ya nice ready thursday',\n",
              " 'allo braved bus taken train triumphed mean b ham jolly good rest week',\n",
              " 'watching cartoon listening music amp eve go temple amp church u',\n",
              " 'mind ask happened dont say uncomfortable',\n",
              " 'private account statement show un redeemed point call identifier code expires',\n",
              " 'prob send email',\n",
              " 'cash prize claim call c rstm sw s ppm',\n",
              " 'thats cool sometimes slow gentle sonetimes rough hard',\n",
              " 'gon na say sorry would normal starting panic time sorry seeing tuesday',\n",
              " 'wait know wesley town bet hella drug',\n",
              " 'fine miss much',\n",
              " 'u got person story',\n",
              " 'tell drug dealer getting impatient',\n",
              " 'sun cant come earth send luv ray cloud cant come river send luv rain cant come meet u send care msg u gud evng',\n",
              " 'place man',\n",
              " 'doesnt make sense take unless free need know wikipedia com',\n",
              " 'premium phone service call',\n",
              " 'sea lay rock rock envelope envelope paper paper word',\n",
              " 'mum repent',\n",
              " 'sorry going home first daddy come fetch later',\n",
              " 'leave de start prepare next',\n",
              " 'yes baby study position kama sutra',\n",
              " 'en chikku nange bakra msg kalstiya tea coffee',\n",
              " 'carlos minute still need buy',\n",
              " 'pay lt decimal gt lakh',\n",
              " 'good evening ttyl',\n",
              " 'u receive msg',\n",
              " 'ho ho big belly laugh see ya tomo',\n",
              " 'sm ac sun post hello seem cool',\n",
              " 'get ur st ringtone free reply msg tone gr top tone phone every week per wk opt send stop',\n",
              " 'ditto worry saying anything anymore like said last night whatever want peace',\n",
              " 'got lt gt way could pick',\n",
              " 'dont knw pa drink milk',\n",
              " 'maybe say hi find got card great escape wetherspoons',\n",
              " 'piggy r u awake bet u still sleeping going lunch',\n",
              " 'cause freaky lol',\n",
              " 'missed call cause yelling scrappy miss u wait u come home lonely today',\n",
              " 'hex place talk explain',\n",
              " 'log wat sdryb',\n",
              " 'xy going e lunch',\n",
              " 'hi sue year old work lapdancer love sex text live bedroom text sue textoperator g da ppmsg',\n",
              " 'wanted ask wait finish lect co lect finish hour anyway',\n",
              " 'finished work yet',\n",
              " 'every king cry baby every great building map imprtant u r today u wil reach tomorw gud ni',\n",
              " 'dear cherthala case u r coming cochin pls call bfore u start shall also reach accordingly tell day u r coming tmorow engaged an holiday',\n",
              " 'thanks love torch bold',\n",
              " 'forwarded please call immediately urgent message waiting',\n",
              " 'farm open',\n",
              " 'sorry trouble u buy dad big small sat n sun thanx',\n",
              " 'sister law hope great month saying hey abiola',\n",
              " 'purchase stuff today mail po box number',\n",
              " 'ah poop look like ill prob send laptop get fixed cuz gpu problem',\n",
              " 'good good job like entrepreneur',\n",
              " 'aight close still around alex place',\n",
              " 'meet corporation st outside gap see mind working',\n",
              " 'mum ask buy food home',\n",
              " 'k u also dont msg reply msg',\n",
              " 'much r willing pay',\n",
              " 'sorry call later',\n",
              " 'important prevent dehydration giving enough fluid',\n",
              " 'thats bit weird even supposed happening good idea sure pub',\n",
              " 'true dear sat pray evening felt sm time',\n",
              " 'think get away trek long family town sorry',\n",
              " 'wan na gym harri',\n",
              " 'quite late lar ard anyway wun b drivin',\n",
              " 'review keep fantastic nokia n gage game deck club nokia go www cnupdates com newsletter unsubscribe alert reply word',\n",
              " 'mths half price orange line rental latest camera phone free phone mths call mobilesdirect free update stoptxt c',\n",
              " 'height confidence aeronautics professor wer calld amp wer askd sit aeroplane aftr sat wer told dat plane w made student dey hurried plane bt didnt move said made student',\n",
              " 'seems like weird timing night g want come smoke day shitstorm attributed always coming making everyone smoke',\n",
              " 'pm cost p',\n",
              " 'save stress person dorm account send account detail money sent',\n",
              " 'also know lunch menu da know',\n",
              " 'stuff sell tell',\n",
              " 'urgent nd attempt contact u u call b csbcm wc n xx callcost ppm mobilesvary max',\n",
              " 'book lesson msg call work sth going get spec membership px',\n",
              " 'guaranteed cash prize claim yr prize call customer service representative pm',\n",
              " 'macha dont feel upset assume mindset believe one evening wonderful plan u let life begin call anytime',\n",
              " 'oh send address',\n",
              " 'fine anytime best',\n",
              " 'wondar full flim',\n",
              " 'ya even cooky jelly',\n",
              " 'world running still maybe feeling admit mad correction let call life keep running world may u r also running let run',\n",
              " 'got look scrumptious daddy want eat night long',\n",
              " 'co lar ba dao ok pm lor u never ask go ah said u would ask fri said u ask today',\n",
              " 'alright omw got ta change order half th',\n",
              " 'exactly anyways far jide study visiting',\n",
              " 'dunno u ask',\n",
              " 'email alertfrom jeri stewartsize kbsubject low cost prescripiton drvgsto listen email call',\n",
              " 'spring coming early yay',\n",
              " 'lol feel bad use money take steak dinner',\n",
              " 'even u dont get trouble convincing tel twice tel neglect msg dont c read dont reply',\n",
              " 'leaving qatar tonite search opportunity went fast pls add ur prayer dear rakhesh',\n",
              " 'one talking',\n",
              " 'thanks looking really appreciate',\n",
              " 'hi customer loyalty offer new nokia mobile txtauction txt word start get ctxt tc p mtmsg',\n",
              " 'wish',\n",
              " 'haha mayb u rite u know well da feeling liked someone gd lor u faster go find one gal group attached liao',\n",
              " 'yes glad made',\n",
              " 'well little time thing good time ahead',\n",
              " 'got room soon put clock back til shouted everyone get realised wahay another hour bed',\n",
              " 'ok may free gym',\n",
              " 'men like shorter lady gaze eye',\n",
              " 'dunno jus say go lido time',\n",
              " 'promise take good care princess run please send pic get chance ttyl',\n",
              " 'u subscribed best mobile content service uk per day send stop helpline',\n",
              " 'reason spoken year anyways great week best exam',\n",
              " 'monday next week give full gist',\n",
              " 'realize year thousand old lady running around tattoo',\n",
              " 'important customer service announcement premier',\n",
              " 'dont gim lip caveboy',\n",
              " 'get library',\n",
              " 'realy sorry recognise number confused r u please',\n",
              " 'didnt holla',\n",
              " 'cant think anyone spare room top head',\n",
              " 'faith make thing possible hope make thing work love make thing beautiful may three christmas merry christmas',\n",
              " 'u made appointment',\n",
              " 'call carlos phone vibrate acting might hear text',\n",
              " 'romantic paris night flight book next year call t c apply',\n",
              " 'grandma oh dear u still ill felt shit morning think hungover another night leave sat',\n",
              " 'urgent ur guaranteed award still unclaimed call closingdate claimcode pmmorefrommobile bremoved mobypobox l yf',\n",
              " 'nothing jus tot u would ask co u ba gua went mt faber yest yest jus went already mah today going jus call lor',\n",
              " 'wishing family merry x ma happy new year advance',\n",
              " 'ur awarded city break could win summer shopping spree every wk txt store skilgme tscs winawk age perwksub',\n",
              " 'nt goin got somethin unless meetin dinner lor haha wonder go ti time',\n",
              " 'sorry call later',\n",
              " 'cant pick phone right pls send message',\n",
              " 'lol know dramatic school already closed tomorrow apparently drive inch snow supposed get',\n",
              " 'getting anywhere damn job hunting',\n",
              " 'lol u drunkard hair moment yeah still tonight wats plan',\n",
              " 'idc get weaseling way shit twice row',\n",
              " 'wil lt gt minute got space',\n",
              " 'sleeping surfing',\n",
              " 'thanks picking trash',\n",
              " 'go tell friend sure want live smoke much spend hour begging come smoke',\n",
              " 'hi kate lovely see tonight ill phone tomorrow got sing guy gave card xxx',\n",
              " 'happy new year dear brother really miss got number decided send text wishing happiness abiola',\n",
              " 'mean get door',\n",
              " 'opinion jada kusruthi lovable silent spl character matured stylish simple pls reply',\n",
              " 'hmmm thought said hour slave late punish',\n",
              " 'beerage',\n",
              " 'important customer service announcement premier call freephone',\n",
              " 'dont think turn like randomlly within min opening',\n",
              " 'supposed make still town though',\n",
              " 'time fix spelling sometimes get completely diff word go figure',\n",
              " 'ever thought living good life perfect partner txt back name age join mobile community p sm',\n",
              " 'free top polyphonic tone call national rate get toppoly tune sent every week text subpoly per pole unsub',\n",
              " 'gud mrng dear hav nice day',\n",
              " 'hoping enjoyed game yesterday sorry touch pls know fondly bein thot great week abiola',\n",
              " 'e best ur driving tmr',\n",
              " 'u dogbreath sounding like jan c al',\n",
              " 'omg want scream weighed lost weight woohoo',\n",
              " 'generally one uncountable noun u dictionary piece research',\n",
              " 'really getting hanging around',\n",
              " 'orange customer may claim free camera phone upgrade loyalty call offer end thmarch c apply opt availa',\n",
              " 'petey boy whereare friendsare thekingshead come canlove nic',\n",
              " 'ok msg u b leave house',\n",
              " 'gim lt gt minute ago',\n",
              " 'last chance claim ur worth discount voucher today text shop savamob offer mobile c savamob pobox uz sub',\n",
              " 'appt lt time gt fault u listen told u twice',\n",
              " 'free st week nokia tone ur mobile every week txt nokia get txting tell ur mate www getzed co uk pobox w wq norm p tone',\n",
              " 'guaranteed award even cashto claim ur award call free stop getstop php rg jx',\n",
              " 'k',\n",
              " 'dled imp',\n",
              " 'sure make sure know smokin yet',\n",
              " 'boooo always work quit',\n",
              " 'taking half day leave bec well',\n",
              " 'ugh wan na get bed warm',\n",
              " 'nervous lt gt',\n",
              " 'ring come guy costume gift future yowifes hint hint',\n",
              " 'congratulation ur awarded either cd gift voucher free entry weekly draw txt music tncs www ldew com win ppmx age',\n",
              " 'borrow ur bag ok',\n",
              " 'u outbid simonwatson shinco dvd plyr bid visit sm ac smsrewards end bid notification reply end',\n",
              " 'boytoy miss happened',\n",
              " 'lot used one babe model help youi bring match',\n",
              " 'also bringing galileo dobby',\n",
              " 'responding',\n",
              " 'boo babe u enjoyin yourjob u seemed b gettin well hunny hope ure ok take care llspeak u soonlots loveme xxxx',\n",
              " 'good afternoon starshine boytoy crave yet ache fuck sip cappuccino miss babe teasing kiss',\n",
              " 'road cant txt',\n",
              " 'smsservices yourinclusive text credit pls goto www comuk net login qxj unsubscribe stop extra charge help comuk cm ae',\n",
              " 'p alfie moon child need song ur mob tell ur txt tone charity nokias poly charity polys zed profit charity',\n",
              " 'good evening ttyl',\n",
              " 'hmm bit piece lol sigh',\n",
              " 'hahaha use brain dear',\n",
              " 'hey got mail',\n",
              " 'sorry light turned green meant another friend wanted lt gt worth may around',\n",
              " 'thanks yesterday sir wonderful hope enjoyed burial mojibiola',\n",
              " 'u secret admirer reveal think u r special call opt reply reveal stop per msg recd cust care',\n",
              " 'hi mate rv u hav nice hol message say hello coz sent u age started driving stay road rvx',\n",
              " 'dear voucher holder claim week offer pc please go http www e tlp co uk expressoffer t c apply stop text txt stop',\n",
              " 'thank much skyped wit kz sura didnt get pleasure company hope good given ultimatum oh countin aburo enjoy message sent day ago',\n",
              " 'surely result offer',\n",
              " 'good morning dear great amp successful day',\n",
              " 'want anytime network min text new video phone five pound per week call reply delivery tomorrow',\n",
              " 'sir late paying rent past month pay lt gt charge felt would inconsiderate nag something give great cost didnt speak however recession wont able pay charge month hence askin well ahead month end please help thanks',\n",
              " 'tried contact offer new video phone anytime network min half price rental camcorder call reply delivery wed',\n",
              " 'last chance claim ur worth discount voucher text yes savamob member offer mobile c sub remove txt x stop',\n",
              " 'luv u soo much u understand special u r ring u morrow luv u xxx',\n",
              " 'pls send comprehensive mail paying much',\n",
              " 'prashanthettan mother passed away last night pray family',\n",
              " 'urgent call landline complimentary ibiza holiday cash await collection sae c po box sk wp ppm',\n",
              " 'k k going',\n",
              " 'meanwhile shit suite xavier decided give u lt gt second warning samantha coming playing jay guitar impress shit also think doug realizes live anymore',\n",
              " 'stomach thru much trauma swear eat better lose weight',\n",
              " 'office whats matter msg call break',\n",
              " 'yeah barely enough room two u x many fucking shoe sorry man see later',\n",
              " 'today offer claim ur worth discount voucher text yes savamob member offer mobile c sub unsub reply x',\n",
              " 'u reach orchard already u wan go buy ticket first',\n",
              " 'real baby want bring inner tigress',\n",
              " 'da run activate full version da',\n",
              " 'ah poor baby hope urfeeling bettersn luv probthat overdose work hey go careful spk u sn lot lovejen xxx',\n",
              " 'stop story told returned saying order',\n",
              " 'talk sexy make new friend fall love world discreet text dating service text vip see could meet',\n",
              " 'going take babe',\n",
              " 'hai ana tomarrow coming morning lt decimal gt ill sathy go rto office reply came home',\n",
              " 'spoon okay',\n",
              " 'say somebody named tampa',\n",
              " 'work going min',\n",
              " 'brother genius',\n",
              " 'sorry guess whenever get hold connection maybe hour two text',\n",
              " 'u find time bus coz need sort stuff',\n",
              " 'dude ive seeing lotta corvette lately',\n",
              " 'congratulation ur awarded either yr supply cd virgin record mystery gift guaranteed call t c www smsco net pm approx min',\n",
              " 'consider wall bunker shit important never play peaceful guess place high enough matter',\n",
              " 'private account statement xxxxxx show un redeemed point call identifier code expires',\n",
              " 'hello need posh bird chap user trial prod champneys put need address dob asap ta r',\n",
              " 'u want xmas free text message new video phone half price line rental call free find',\n",
              " 'well officially philosophical hole u wan na call home ready saved',\n",
              " 'going good problem still need little experience understand american customer voice',\n",
              " 'text drop x',\n",
              " 'ugh long day exhausted want cuddle take nap',\n",
              " 'talk atleast day otherwise miss best friend world shakespeare shesil lt gt',\n",
              " 'shop till u drop either k k cash travel voucher call ntt po box cr bt fixedline cost ppm mobile vary',\n",
              " 'castor need see something',\n",
              " 'sunshine quiz wkly q win top sony dvd player u know country liverpool played mid week txt ansr sp tyrone',\n",
              " 'u secret admirer looking make contact u find r reveal think ur special call',\n",
              " 'u secret admirer looking make contact u find r reveal think ur special call stopsms',\n",
              " 'reminder downloaded content already paid goto http doit mymoby tv collect content',\n",
              " 'see knew giving break time woul lead always wanting miss curfew gon na gibe til one midnight movie gon na get til need come home need getsleep anything need b studdying ear training',\n",
              " 'love give massage use lot baby oil fave position',\n",
              " 'dude go sup',\n",
              " 'yoyyooo u know change permission drive mac usb flash drive',\n",
              " 'gibbs unsold mike hussey',\n",
              " 'like talk pa able dont know',\n",
              " 'dun cut short leh u dun like ah failed quite sad',\n",
              " 'unbelievable faglord',\n",
              " 'wife knew time murder exactly',\n",
              " 'ask princess',\n",
              " 'great princess thinking',\n",
              " 'nutter cutter ctter cttergg cttargg ctargg ctagg ie',\n",
              " 'ok noe u busy really bored msg u oso dunno wat colour choose one',\n",
              " 'g class early tomorrow thus trying smoke lt gt',\n",
              " 'superb thought grateful u dont everything u want mean u still opportunity happier tomorrow u today',\n",
              " 'hope good week checking',\n",
              " 'used hope agent drop since booked thing year whole boston nyc experiment',\n",
              " 'thursday night yeah sure thing work',\n",
              " 'free ringtone waiting collected simply text password mix verify get usher britney fml',\n",
              " 'probably money worry thing coming due several outstanding invoice work two three month ago',\n",
              " 'possible teach',\n",
              " 'wonder phone battery went dead tell love babe',\n",
              " 'lovely smell bus tobacco',\n",
              " 'getting worried derek taylor already assumed worst',\n",
              " 'hey charles sorry late reply',\n",
              " 'lastest stereophonics marley dizzee racal libertine stroke win nookii game flirt click themob wap bookmark text wap',\n",
              " 'give plus said grinule greet whenever speak',\n",
              " 'white fudge oreo store',\n",
              " 'january male sale hot gay chat cheaper call national rate p min cheap p min peak stop text call p min',\n",
              " 'love come took long leave zaher got word ym happy see sad left miss',\n",
              " 'sorry hurt',\n",
              " 'feel nauseous pissed eat sweet week cause today planning pig dieting week hungry',\n",
              " 'ok lor early still project meeting',\n",
              " 'call da waiting call',\n",
              " 'could ask carlos could get anybody else chip',\n",
              " 'actually send reminder today wonderful weekend',\n",
              " 'people see msg think iam addicted msging wrong bcoz know iam addicted sweet friend bslvyl',\n",
              " 'hey gave photo registered driving ah tmr wan na meet yck',\n",
              " 'dont talk ever ok word',\n",
              " 'u wana see',\n",
              " 'way school pls send ashley number',\n",
              " 'shall fine avalarr hollalater',\n",
              " 'went attend another two round today still reach home',\n",
              " 'actually deleted old website blogging magicalsongs blogspot com',\n",
              " 'k wait chikku il send aftr lt gt min',\n",
              " 'diet ate many slice pizza yesterday ugh always diet',\n",
              " 'k give kvb acc detail',\n",
              " 'oh come ah',\n",
              " 'money r lucky winner claim prize text money million give away ppt x normal text rate box w jy',\n",
              " 'really sorry b able friday hope u find alternative hope yr term going ok',\n",
              " 'congratulation ore mo owo wa enjoy wish many happy moment fro wherever go',\n",
              " 'samus shoulder yet',\n",
              " 'time think need know near campus',\n",
              " 'dear matthew please call landline complimentary lux tenerife holiday cash await collection ppm sae c box sk xh',\n",
              " 'dun wear jean lor',\n",
              " 'since side fever vomitin',\n",
              " 'k k college',\n",
              " 'urgent call landline complimentary tenerife holiday cash await collection sae c box hp yf ppm',\n",
              " 'better made friday stuffed like pig yesterday feel bleh least writhing pain kind bleh',\n",
              " 'sell ton coin sell coin someone thru paypal voila money back life pocket',\n",
              " 'theyre lot place hospital medical place safe',\n",
              " 'getting touch folk waiting company txt back name age opt enjoy community p sm',\n",
              " 'also sorta blown couple time recently id rather text blue looking weed',\n",
              " 'sent score sophas secondary application school think thinking applying research cost also contact joke ogunrinde school one le expensive one',\n",
              " 'cant wait see photo useful',\n",
              " 'ur cash balance currently pound maximize ur cash send go p msg cc po box tcr w',\n",
              " 'hey booked kb sat already lesson going ah keep sat night free need meet confirm lodging',\n",
              " 'chk ur belovd m dict',\n",
              " 'time want come',\n",
              " 'awesome lem know whenever around',\n",
              " 'shb b ok lor thanx',\n",
              " 'beautiful truth gravity read carefully heart feel light someone feel heavy someone leaf good night',\n",
              " 'also remember get dobby bowl car',\n",
              " 'filthy story girl waiting',\n",
              " 'sorry c ur msg yar lor poor thing one night tmr u brand new room sleep',\n",
              " 'love decision feeling could decide love life would much simpler le magical',\n",
              " 'welp apparently retired',\n",
              " 'sort code acc bank natwest reply confirm sent right person',\n",
              " '',\n",
              " 'u sure u take sick time',\n",
              " 'urgent trying contact u today draw show prize guaranteed call land line claim valid hr',\n",
              " 'watching cartoon listening music amp eve go temple amp church u',\n",
              " 'yo chad gymnastics class wan na take site say christian class full',\n",
              " 'much buzy',\n",
              " 'better still catch let ask sell lt gt',\n",
              " 'sure night menu know noon menu',\n",
              " 'u want come back beautiful necklace token heart thats give wife liking see one give dont call wait till come',\n",
              " 'willing go aptitude class',\n",
              " 'wont b trying sort house ok',\n",
              " 'yar lor wan go c horse racing today mah eat earlier lor ate chicken rice u',\n",
              " 'haha awesome omw back',\n",
              " 'yup thk e shop close lor',\n",
              " 'account number',\n",
              " 'eh u send wrongly lar',\n",
              " 'hey ad crap nite borin without ya boggy u boring biatch thanx u wait til nxt time il ave ya',\n",
              " 'ok shall talk',\n",
              " 'dont hesitate know second time weakness like keep notebook eat day anything changed day sure nothing',\n",
              " 'hey pay salary de lt gt',\n",
              " 'another month need chocolate weed alcohol',\n",
              " 'started searching get job day great potential talent',\n",
              " 'reckon need town eightish walk carpark',\n",
              " 'congrats mobile g videophones r call videochat wid mate play java game dload polyph music noline rentl',\n",
              " 'look fuckin time fuck think',\n",
              " 'yo guess dropped',\n",
              " 'carlos say mu lt gt minute',\n",
              " 'office call lt gt min',\n",
              " 'geeee miss already know think fuck wait till next year together loving kiss',\n",
              " 'yun ah ubi one say wan call tomorrow call look irene ere got bus ubi cres ubi tech park ph st wkg day n',\n",
              " 'ugh got ta drive back sd la butt sore',\n",
              " 'th july',\n",
              " 'hi im relaxing time ever get every day party good night get home tomorrow ish',\n",
              " 'wan come come lor din c stripe skirt',\n",
              " 'xmas story peace xmas msg love xmas miracle jesus hav blessed month ahead amp wish u merry xmas',\n",
              " 'number',\n",
              " 'change e one next escalator',\n",
              " 'yetunde class run water make ok pls',\n",
              " 'lot happened feel quiet beth aunt charlie working lot helen mo',\n",
              " 'wait bus stop aft ur lect lar dun c go get car come back n pick',\n",
              " 'aight thanks comin',\n",
              " ...]"
            ]
          },
          "metadata": {},
          "execution_count": 22
        }
      ]
    },
    {
      "cell_type": "code",
      "source": [
        "from keras.preprocessing.text import one_hot"
      ],
      "metadata": {
        "id": "sH5mwipeAZjb"
      },
      "execution_count": null,
      "outputs": []
    },
    {
      "cell_type": "code",
      "source": [
        "one_hot_sent=[one_hot(i,10000) for i in sentences]"
      ],
      "metadata": {
        "id": "8kNTc1unAfZY"
      },
      "execution_count": null,
      "outputs": []
    },
    {
      "cell_type": "code",
      "source": [
        "maxi=[len(i) for i in one_hot_sent]"
      ],
      "metadata": {
        "id": "k2iM21dTAhk9"
      },
      "execution_count": null,
      "outputs": []
    },
    {
      "cell_type": "code",
      "source": [
        "max(maxi)"
      ],
      "metadata": {
        "colab": {
          "base_uri": "https://localhost:8080/"
        },
        "id": "4xM7KWazAjtO",
        "outputId": "dfaa6f5a-371c-405d-d06b-b3bc467aaebc"
      },
      "execution_count": null,
      "outputs": [
        {
          "output_type": "execute_result",
          "data": {
            "text/plain": [
              "77"
            ]
          },
          "metadata": {},
          "execution_count": 21
        }
      ]
    },
    {
      "cell_type": "code",
      "source": [
        "from keras.preprocessing.sequence import  pad_sequences"
      ],
      "metadata": {
        "id": "nANusr2wAmXE"
      },
      "execution_count": null,
      "outputs": []
    },
    {
      "cell_type": "code",
      "source": [
        "padsequences=pad_sequences(one_hot_sent,maxlen=80)"
      ],
      "metadata": {
        "id": "GLXhE43sApJG"
      },
      "execution_count": null,
      "outputs": []
    },
    {
      "cell_type": "code",
      "source": [
        "padsequences"
      ],
      "metadata": {
        "colab": {
          "base_uri": "https://localhost:8080/"
        },
        "id": "TEs6wahrArZF",
        "outputId": "ef705072-aeee-460d-ee9c-311aed3bd33e"
      },
      "execution_count": null,
      "outputs": [
        {
          "output_type": "execute_result",
          "data": {
            "text/plain": [
              "array([[   0,    0,    0, ...,  941, 9000, 3789],\n",
              "       [   0,    0,    0, ...,  768, 1095, 2699],\n",
              "       [   0,    0,    0, ..., 6995, 2470, 7103],\n",
              "       ...,\n",
              "       [   0,    0,    0, ...,  259, 4929, 3454],\n",
              "       [   0,    0,    0, ..., 7068, 1095, 2951],\n",
              "       [   0,    0,    0, ..., 5490, 3765, 1327]], dtype=int32)"
            ]
          },
          "metadata": {},
          "execution_count": 25
        }
      ]
    },
    {
      "cell_type": "code",
      "source": [
        "feature_train,feature_test,label_train,label_test=train_test_split(padsequences,labels,test_size=0.2,random_state=7)"
      ],
      "metadata": {
        "id": "xw7E1uMWAutu"
      },
      "execution_count": null,
      "outputs": []
    },
    {
      "cell_type": "code",
      "source": [
        "from keras.models import Sequential\n",
        "from keras.layers import Embedding,LSTM,Dense,Dropout,Flatten"
      ],
      "metadata": {
        "id": "nob23vLPA1Da"
      },
      "execution_count": null,
      "outputs": []
    },
    {
      "cell_type": "code",
      "source": [
        "model=Sequential()\n",
        "model.add(Embedding(10000,64,input_length=80))\n",
        "model.add(LSTM(100))\n",
        "model.add(Dense(2,activation='sigmoid'))\n",
        "model.compile(loss='binary_crossentropy',metrics=['accuracy'],optimizer='adam')"
      ],
      "metadata": {
        "id": "ZeF7ZpYuA3m3"
      },
      "execution_count": null,
      "outputs": []
    },
    {
      "cell_type": "code",
      "source": [
        "model.summary()"
      ],
      "metadata": {
        "colab": {
          "base_uri": "https://localhost:8080/"
        },
        "id": "Y0pmkiHRA6Wr",
        "outputId": "06f77a04-493e-45ba-970e-37a1443bfd0f"
      },
      "execution_count": null,
      "outputs": [
        {
          "output_type": "stream",
          "name": "stdout",
          "text": [
            "Model: \"sequential\"\n",
            "_________________________________________________________________\n",
            " Layer (type)                Output Shape              Param #   \n",
            "=================================================================\n",
            " embedding (Embedding)       (None, 80, 64)            640000    \n",
            "                                                                 \n",
            " lstm (LSTM)                 (None, 100)               66000     \n",
            "                                                                 \n",
            " dense (Dense)               (None, 2)                 202       \n",
            "                                                                 \n",
            "=================================================================\n",
            "Total params: 706202 (2.69 MB)\n",
            "Trainable params: 706202 (2.69 MB)\n",
            "Non-trainable params: 0 (0.00 Byte)\n",
            "_________________________________________________________________\n"
          ]
        }
      ]
    },
    {
      "cell_type": "code",
      "source": [
        "history=model.fit(feature_train,label_train,epochs=20,validation_data=(feature_test,label_test))"
      ],
      "metadata": {
        "colab": {
          "base_uri": "https://localhost:8080/"
        },
        "id": "5i2J-qyQA9uX",
        "outputId": "015657fc-1608-4b60-bd0b-dd469db82ac3"
      },
      "execution_count": null,
      "outputs": [
        {
          "output_type": "stream",
          "name": "stdout",
          "text": [
            "Epoch 1/20\n",
            "140/140 [==============================] - 16s 98ms/step - loss: 0.1965 - accuracy: 0.9387 - val_loss: 0.0562 - val_accuracy: 0.9857\n",
            "Epoch 2/20\n",
            "140/140 [==============================] - 13s 94ms/step - loss: 0.0375 - accuracy: 0.9886 - val_loss: 0.0441 - val_accuracy: 0.9874\n",
            "Epoch 3/20\n",
            "140/140 [==============================] - 13s 91ms/step - loss: 0.0182 - accuracy: 0.9948 - val_loss: 0.0410 - val_accuracy: 0.9874\n",
            "Epoch 4/20\n",
            "140/140 [==============================] - 12s 83ms/step - loss: 0.0087 - accuracy: 0.9978 - val_loss: 0.0447 - val_accuracy: 0.9857\n",
            "Epoch 5/20\n",
            "140/140 [==============================] - 12s 88ms/step - loss: 0.0044 - accuracy: 0.9989 - val_loss: 0.0506 - val_accuracy: 0.9865\n",
            "Epoch 6/20\n",
            "140/140 [==============================] - 13s 93ms/step - loss: 0.0044 - accuracy: 0.9989 - val_loss: 0.0417 - val_accuracy: 0.9839\n",
            "Epoch 7/20\n",
            "140/140 [==============================] - 13s 94ms/step - loss: 0.0025 - accuracy: 0.9993 - val_loss: 0.0531 - val_accuracy: 0.9794\n",
            "Epoch 8/20\n",
            "140/140 [==============================] - 13s 94ms/step - loss: 0.0018 - accuracy: 0.9996 - val_loss: 0.0542 - val_accuracy: 0.9848\n",
            "Epoch 9/20\n",
            "140/140 [==============================] - 13s 95ms/step - loss: 0.0016 - accuracy: 0.9998 - val_loss: 0.0637 - val_accuracy: 0.9839\n",
            "Epoch 10/20\n",
            "140/140 [==============================] - 13s 94ms/step - loss: 0.0015 - accuracy: 0.9998 - val_loss: 0.0474 - val_accuracy: 0.9848\n",
            "Epoch 11/20\n",
            "140/140 [==============================] - 13s 90ms/step - loss: 8.3420e-04 - accuracy: 0.9998 - val_loss: 0.0619 - val_accuracy: 0.9803\n",
            "Epoch 12/20\n",
            "140/140 [==============================] - 12s 83ms/step - loss: 7.0560e-04 - accuracy: 1.0000 - val_loss: 0.0583 - val_accuracy: 0.9839\n",
            "Epoch 13/20\n",
            "140/140 [==============================] - 12s 85ms/step - loss: 6.1378e-04 - accuracy: 0.9998 - val_loss: 0.0644 - val_accuracy: 0.9839\n",
            "Epoch 14/20\n",
            "140/140 [==============================] - 13s 90ms/step - loss: 1.4720e-04 - accuracy: 1.0000 - val_loss: 0.0703 - val_accuracy: 0.9803\n",
            "Epoch 15/20\n",
            "140/140 [==============================] - 13s 90ms/step - loss: 1.2438e-04 - accuracy: 1.0000 - val_loss: 0.0726 - val_accuracy: 0.9821\n",
            "Epoch 16/20\n",
            "140/140 [==============================] - 13s 95ms/step - loss: 8.6260e-05 - accuracy: 1.0000 - val_loss: 0.0699 - val_accuracy: 0.9857\n",
            "Epoch 17/20\n",
            "140/140 [==============================] - 13s 94ms/step - loss: 6.1185e-05 - accuracy: 1.0000 - val_loss: 0.0727 - val_accuracy: 0.9839\n",
            "Epoch 18/20\n",
            "140/140 [==============================] - 13s 90ms/step - loss: 4.9791e-05 - accuracy: 1.0000 - val_loss: 0.0741 - val_accuracy: 0.9830\n",
            "Epoch 19/20\n",
            "140/140 [==============================] - 12s 83ms/step - loss: 3.8326e-05 - accuracy: 1.0000 - val_loss: 0.0743 - val_accuracy: 0.9839\n",
            "Epoch 20/20\n",
            "140/140 [==============================] - 12s 84ms/step - loss: 3.3546e-05 - accuracy: 1.0000 - val_loss: 0.0836 - val_accuracy: 0.9830\n"
          ]
        }
      ]
    },
    {
      "cell_type": "code",
      "source": [
        "label_pred=model.predict(feature_test)"
      ],
      "metadata": {
        "colab": {
          "base_uri": "https://localhost:8080/"
        },
        "id": "ge2h3eurBCfx",
        "outputId": "e0b24224-19e3-4434-9bc7-fac39fd4727e"
      },
      "execution_count": null,
      "outputs": [
        {
          "output_type": "stream",
          "name": "stdout",
          "text": [
            "35/35 [==============================] - 1s 19ms/step\n"
          ]
        }
      ]
    },
    {
      "cell_type": "code",
      "source": [
        "label_pred"
      ],
      "metadata": {
        "colab": {
          "base_uri": "https://localhost:8080/"
        },
        "id": "bMYNzSGdCM3t",
        "outputId": "2060172b-8809-4dfe-c734-16c3c81b9f77"
      },
      "execution_count": null,
      "outputs": [
        {
          "output_type": "execute_result",
          "data": {
            "text/plain": [
              "array([[9.9999636e-01, 2.9917667e-06],\n",
              "       [9.9614060e-01, 3.6549363e-03],\n",
              "       [9.9999928e-01, 5.9552252e-07],\n",
              "       ...,\n",
              "       [9.9925196e-01, 6.1011879e-04],\n",
              "       [9.9999821e-01, 1.5142004e-06],\n",
              "       [9.9999857e-01, 1.1110234e-06]], dtype=float32)"
            ]
          },
          "metadata": {},
          "execution_count": 32
        }
      ]
    },
    {
      "cell_type": "code",
      "source": [
        "label_pred_=[np.argmax(i,axis=0) for i in label_pred]"
      ],
      "metadata": {
        "id": "84WlZhxACQF5"
      },
      "execution_count": null,
      "outputs": []
    },
    {
      "cell_type": "code",
      "source": [
        "label_pred_[0:5]"
      ],
      "metadata": {
        "colab": {
          "base_uri": "https://localhost:8080/"
        },
        "id": "mo00lGcoCTgD",
        "outputId": "7a818ee8-3d03-4231-b8fc-2a05e437463f"
      },
      "execution_count": null,
      "outputs": [
        {
          "output_type": "execute_result",
          "data": {
            "text/plain": [
              "[0, 0, 0, 0, 0]"
            ]
          },
          "metadata": {},
          "execution_count": 34
        }
      ]
    },
    {
      "cell_type": "code",
      "source": [
        "label_test_=[np.argmax(i,axis=0) for i in label_test]"
      ],
      "metadata": {
        "id": "rJUme-CMCXeI"
      },
      "execution_count": null,
      "outputs": []
    },
    {
      "cell_type": "code",
      "source": [
        "label_test_[0:5]"
      ],
      "metadata": {
        "colab": {
          "base_uri": "https://localhost:8080/"
        },
        "id": "tu_DyU65CaId",
        "outputId": "237db0c1-cc1e-4b24-fca2-425984d30927"
      },
      "execution_count": null,
      "outputs": [
        {
          "output_type": "execute_result",
          "data": {
            "text/plain": [
              "[0, 0, 0, 0, 0]"
            ]
          },
          "metadata": {},
          "execution_count": 36
        }
      ]
    },
    {
      "cell_type": "code",
      "source": [
        "m.accuracy_score(label_test_,label_pred_)"
      ],
      "metadata": {
        "colab": {
          "base_uri": "https://localhost:8080/"
        },
        "id": "yXcCcOHHCdRd",
        "outputId": "3b4e3dc2-e270-4362-e386-fb04588f0179"
      },
      "execution_count": null,
      "outputs": [
        {
          "output_type": "execute_result",
          "data": {
            "text/plain": [
              "0.9829596412556054"
            ]
          },
          "metadata": {},
          "execution_count": 37
        }
      ]
    },
    {
      "cell_type": "code",
      "source": [
        "print(m.classification_report(label_test_,label_pred_))"
      ],
      "metadata": {
        "colab": {
          "base_uri": "https://localhost:8080/"
        },
        "id": "56SkX4U_Cgmx",
        "outputId": "ec1ec36f-94ce-42ac-f798-e093857ccc3d"
      },
      "execution_count": null,
      "outputs": [
        {
          "output_type": "stream",
          "name": "stdout",
          "text": [
            "              precision    recall  f1-score   support\n",
            "\n",
            "           0       0.99      0.99      0.99       970\n",
            "           1       0.96      0.91      0.93       145\n",
            "\n",
            "    accuracy                           0.98      1115\n",
            "   macro avg       0.97      0.95      0.96      1115\n",
            "weighted avg       0.98      0.98      0.98      1115\n",
            "\n"
          ]
        }
      ]
    },
    {
      "cell_type": "code",
      "source": [
        "conf_matrix=m.confusion_matrix(label_test_,label_pred_)"
      ],
      "metadata": {
        "id": "jflAz4HPiP38"
      },
      "execution_count": null,
      "outputs": []
    },
    {
      "cell_type": "code",
      "source": [
        "print(m.confusion_matrix(label_test_,label_pred_))"
      ],
      "metadata": {
        "colab": {
          "base_uri": "https://localhost:8080/"
        },
        "id": "pr5kmkshCkM1",
        "outputId": "44212d5d-6c26-46af-8e61-67ef3d36dd6c"
      },
      "execution_count": null,
      "outputs": [
        {
          "output_type": "stream",
          "name": "stdout",
          "text": [
            "[[964   6]\n",
            " [ 13 132]]\n"
          ]
        }
      ]
    },
    {
      "cell_type": "code",
      "source": [
        "# Plotting training and validation accuracy\n",
        "plt.plot(history.history['accuracy'], label='Training Accuracy')\n",
        "plt.plot(history.history['val_accuracy'], label='Validation Accuracy')\n",
        "plt.title('Training and Validation Accuracy')\n",
        "plt.xlabel('Epoch')\n",
        "plt.ylabel('Accuracy')\n",
        "plt.legend()\n",
        "plt.show()"
      ],
      "metadata": {
        "colab": {
          "base_uri": "https://localhost:8080/",
          "height": 472
        },
        "id": "tLhqZ9uObrSU",
        "outputId": "fbd0d048-8033-486c-8801-c376fe9187f2"
      },
      "execution_count": null,
      "outputs": [
        {
          "output_type": "display_data",
          "data": {
            "text/plain": [
              "<Figure size 640x480 with 1 Axes>"
            ],
            "image/png": "[encoded data removed]"
          },
          "metadata": {}
        }
      ]
    },
    {
      "cell_type": "code",
      "source": [
        "# Plotting training and validation loss\n",
        "plt.plot(history.history['loss'], label='Training Loss')\n",
        "plt.plot(history.history['val_loss'], label='Validation Loss')\n",
        "plt.title('Training and Validation Loss')\n",
        "plt.xlabel('Epoch')\n",
        "plt.ylabel('Loss')\n",
        "plt.legend()\n",
        "plt.show()"
      ],
      "metadata": {
        "colab": {
          "base_uri": "https://localhost:8080/",
          "height": 472
        },
        "id": "nDMkc198b2xS",
        "outputId": "ee6f5596-637c-43ff-f44b-768417204342"
      },
      "execution_count": null,
      "outputs": [
        {
          "output_type": "display_data",
          "data": {
            "text/plain": [
              "<Figure size 640x480 with 1 Axes>"
            ],
            "image/png": "[encoded data removed]"
          },
          "metadata": {}
        }
      ]
    },
    {
      "cell_type": "code",
      "source": [
        "import matplotlib.pyplot as plt\n",
        "from sklearn.metrics import roc_curve, auc\n",
        "\n",
        "fpr, tpr, _ = roc_curve(label_test_, label_pred_)\n",
        "\n",
        "roc_auc = auc(fpr, tpr)\n",
        "\n",
        "plt.figure()\n",
        "plt.plot(fpr, tpr, color='darkorange', lw=2, label=f'ROC curve (AUC = {roc_auc:.2f})')\n",
        "plt.plot([0, 1], [0, 1], color='navy', lw=2, linestyle='--')\n",
        "plt.xlim([0.0, 1.0])\n",
        "plt.ylim([0.0, 1.05])\n",
        "plt.xlabel('False Positive Rate')\n",
        "plt.ylabel('True Positive Rate')\n",
        "plt.title('Receiver Operating Characteristic')\n",
        "plt.legend(loc='lower right')\n",
        "plt.show()"
      ],
      "metadata": {
        "colab": {
          "base_uri": "https://localhost:8080/",
          "height": 472
        },
        "id": "iq2NAteecKK0",
        "outputId": "d77d53a5-d5fe-456b-9030-8dd24d15c801"
      },
      "execution_count": null,
      "outputs": [
        {
          "output_type": "display_data",
          "data": {
            "text/plain": [
              "<Figure size 640x480 with 1 Axes>"
            ],
            "image/png": "[encoded data removed]"
          },
          "metadata": {}
        }
      ]
    },
    {
      "cell_type": "code",
      "source": [
        "from sklearn.metrics import precision_recall_curve\n",
        "\n",
        "precision, recall, _ = precision_recall_curve(label_test_, label_pred_)\n",
        "\n",
        "plt.step(recall, precision, color='b', where='post')\n",
        "plt.fill_between(recall, precision, step='post', alpha=0.2, color='b')\n",
        "plt.xlabel('Recall')\n",
        "plt.ylabel('Precision')\n",
        "plt.title('Precision-Recall Curve')\n",
        "plt.show()"
      ],
      "metadata": {
        "colab": {
          "base_uri": "https://localhost:8080/",
          "height": 472
        },
        "id": "uGdGRAMEcMmm",
        "outputId": "ed218ff2-2498-4e99-e2b1-40c6c2b50525"
      },
      "execution_count": null,
      "outputs": [
        {
          "output_type": "display_data",
          "data": {
            "text/plain": [
              "<Figure size 640x480 with 1 Axes>"
            ],
            "image/png": "[encoded data removed]"
          },
          "metadata": {}
        }
      ]
    },
    {
      "cell_type": "code",
      "source": [
        "from sklearn.ensemble import RandomForestClassifier\n",
        "\n",
        "# Calculate the maximum sequence length\n",
        "max_len = len(padsequences[0])\n",
        "\n",
        "rf_model = RandomForestClassifier(n_estimators=100)\n",
        "rf_model.fit(feature_train, label_train)\n",
        "importances = rf_model.feature_importances_\n",
        "indices = np.argsort(importances)[::-1]\n",
        "\n",
        "# Plot the feature importances\n",
        "plt.figure()\n",
        "plt.title(\"Feature Importances\")\n",
        "plt.bar(range(max_len), importances[indices])\n",
        "plt.xticks(range(max_len), indices)\n",
        "plt.xlim([-1, max_len])\n",
        "plt.show()\n"
      ],
      "metadata": {
        "colab": {
          "base_uri": "https://localhost:8080/",
          "height": 452
        },
        "id": "xiU5NEsncvcz",
        "outputId": "62eb38ed-bce7-49e6-abc1-5ede4b510e2a"
      },
      "execution_count": null,
      "outputs": [
        {
          "output_type": "display_data",
          "data": {
            "text/plain": [
              "<Figure size 640x480 with 1 Axes>"
            ],
            "image/png": "[encoded data removed]"
          },
          "metadata": {}
        }
      ]
    },
    {
      "cell_type": "code",
      "source": [
        "import seaborn as sns\n",
        "\n",
        "# Generate a heatmap for the confusion matrix\n",
        "sns.heatmap(conf_matrix, annot=True, fmt='d', cmap='Blues', xticklabels=le.classes_, yticklabels=le.classes_)\n",
        "plt.xlabel('Predicted')\n",
        "plt.ylabel('True')\n",
        "plt.title('Confusion Matrix')\n",
        "plt.show()\n"
      ],
      "metadata": {
        "colab": {
          "base_uri": "https://localhost:8080/",
          "height": 472
        },
        "id": "HNuvM9Yic1YW",
        "outputId": "2157b907-4a88-419c-8bbf-0b236d330c46"
      },
      "execution_count": null,
      "outputs": [
        {
          "output_type": "display_data",
          "data": {
            "text/plain": [
              "<Figure size 640x480 with 2 Axes>"
            ],
            "image/png": "[encoded data removed]"
          },
          "metadata": {}
        }
      ]
    },
    {
      "cell_type": "code",
      "source": [
        "spam_lengths = []\n",
        "min_length = min(len(sentences), len(label_test_))\n",
        "\n",
        "for i in range(min_length):\n",
        "    if label_test_[i] == 1:\n",
        "        spam_lengths.append(len(sentences[i].split()))\n",
        "\n",
        "# Plot the distribution of message length for spam and non-spam\n",
        "if spam_lengths:\n",
        "    plt.hist(spam_lengths, bins=50, label='Spam', alpha=0.5)\n",
        "    plt.xlabel('Message Length (Words)')\n",
        "    plt.ylabel('Count')\n",
        "    plt.legend()\n",
        "    plt.title('Distribution of Message Length for Spam Messages')\n",
        "    plt.show()\n",
        "else:\n",
        "    print(\"No spam messages found in the test set.\")\n"
      ],
      "metadata": {
        "colab": {
          "base_uri": "https://localhost:8080/",
          "height": 472
        },
        "id": "01ZffZYOi-zm",
        "outputId": "b2c65957-434c-4af0-fe41-931e61e1f61b"
      },
      "execution_count": null,
      "outputs": [
        {
          "output_type": "display_data",
          "data": {
            "text/plain": [
              "<Figure size 640x480 with 1 Axes>"
            ],
            "image/png": "[encoded data removed]"
          },
          "metadata": {}
        }
      ]
    },
    {
      "cell_type": "code",
      "source": [
        "from tensorflow.keras.models import save_model"
      ],
      "metadata": {
        "id": "bB_hfcaPCn-P"
      },
      "execution_count": null,
      "outputs": []
    },
    {
      "cell_type": "code",
      "source": [
        "save_model(model, 'sms_spam.h5')"
      ],
      "metadata": {
        "colab": {
          "base_uri": "https://localhost:8080/"
        },
        "id": "uvoLBZdHDHTH",
        "outputId": "0a796a6c-8c68-4e36-b8b0-178151914123"
      },
      "execution_count": null,
      "outputs": [
        {
          "output_type": "stream",
          "name": "stderr",
          "text": [
            "<ipython-input-59-d884c670467f>:1: UserWarning: You are saving your model as an HDF5 file via `model.save()`. This file format is considered legacy. We recommend using instead the native Keras format, e.g. `model.save('my_model.keras')`.\n",
            "  save_model(model, 'sms_spam.h5')\n"
          ]
        }
      ]
    }
  ]
}